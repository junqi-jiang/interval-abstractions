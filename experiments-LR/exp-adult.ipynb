{
 "cells": [
  {
   "cell_type": "markdown",
   "source": [
    "## Load dataset and train classifier"
   ],
   "metadata": {
    "collapsed": false
   }
  },
  {
   "cell_type": "code",
   "execution_count": 1,
   "outputs": [],
   "source": [
    "import time\n",
    "import warnings\n",
    "import numpy as np\n",
    "warnings.filterwarnings('ignore')\n",
    "import logging\n",
    "logger = logging.getLogger()\n",
    "logger.setLevel(logging.CRITICAL)\n",
    "%load_ext autoreload\n",
    "%autoreload 2"
   ],
   "metadata": {
    "collapsed": false
   }
  },
  {
   "cell_type": "code",
   "execution_count": 2,
   "outputs": [
    {
     "name": "stderr",
     "output_type": "stream",
     "text": [
      "Using TensorFlow backend.\n"
     ]
    },
    {
     "name": "stdout",
     "output_type": "stream",
     "text": [
      "[INFO] Using Python-MIP package version 1.12.0 [model.py <module>]\n",
      "[WARNING] \n",
      "The TensorFlow contrib module will not be included in TensorFlow 2.0.\n",
      "For more information, please see:\n",
      "  * https://github.com/tensorflow/community/blob/master/rfcs/20180907-contrib-sunset.md\n",
      "  * https://github.com/tensorflow/addons\n",
      "  * https://github.com/tensorflow/io (for I/O related ops)\n",
      "If you depend on functionality not listed there, please file an issue.\n",
      " [lazy_loader.py _load]\n"
     ]
    }
   ],
   "source": [
    "from intabs.dataset import InnDataSet\n",
    "data_name = \"adult\"\n",
    "dataset = InnDataSet(data_name)"
   ],
   "metadata": {
    "collapsed": false
   }
  },
  {
   "cell_type": "code",
   "execution_count": 3,
   "outputs": [
    {
     "name": "stdout",
     "output_type": "stream",
     "text": [
      "Using cuda device\n",
      "accuracy: 0.8286299406102806+-0.004261251461360632\n"
     ]
    }
   ],
   "source": [
    "from intabs.classifier_binary import cross_validation, train_clf, InnModel\n",
    "d = dataset\n",
    "epochs = 15\n",
    "num_h_neurons=None\n",
    "cross_validation(d, num_h_neurons=None, epochs=epochs, data_name=data_name, linear=True)"
   ],
   "metadata": {
    "collapsed": false
   }
  },
  {
   "cell_type": "code",
   "execution_count": 4,
   "outputs": [
    {
     "name": "stdout",
     "output_type": "stream",
     "text": [
      "Evaluations on training data\n",
      "\n",
      "                  precision    recall  f1-score   support\n",
      "\n",
      " bad credit (0)      0.854     0.937     0.894     14854\n",
      "good credit (1)      0.712     0.493     0.582      4678\n",
      "\n",
      "       accuracy                          0.831     19532\n",
      "      macro avg      0.783     0.715     0.738     19532\n",
      "   weighted avg      0.820     0.831     0.819     19532\n",
      "\n",
      "Evaluations on testing data\n",
      "\n",
      "                  precision    recall  f1-score   support\n",
      "\n",
      " bad credit (0)      0.846     0.935     0.888      3713\n",
      "good credit (1)      0.689     0.461     0.552      1170\n",
      "\n",
      "       accuracy                          0.821      4883\n",
      "      macro avg      0.768     0.698     0.720      4883\n",
      "   weighted avg      0.809     0.821     0.808      4883\n",
      "\n"
     ]
    }
   ],
   "source": [
    "torch_model = train_clf(d.X1_train, d.y1_train, d.X1_test, d.y1_test, num_h_neurons, epochs, data_name, save_clf=False, load_clf=False,linear=True)\n",
    "model = InnModel(d, torch_model, num_h_neurons)"
   ],
   "metadata": {
    "collapsed": false
   }
  },
  {
   "cell_type": "markdown",
   "source": [
    "## Experiments 1\n",
    "\n",
    "First, get $\\delta$ value using incremental retraining, and get $\\delta$ value using validation set"
   ],
   "metadata": {
    "collapsed": false
   }
  },
  {
   "cell_type": "code",
   "execution_count": 5,
   "outputs": [
    {
     "name": "stderr",
     "output_type": "stream",
     "text": [
      "100%|██████████| 51/51 [00:44<00:00,  1.16it/s]\n"
     ]
    }
   ],
   "source": [
    "from intabs.evaluation import get_delta_incremental_training, get_retrained_models_and_validation_set, test_delta_with_val_set\n",
    "percentages, delta_magnitudes = get_delta_incremental_training(d, model)\n",
    "inc_delta = delta_magnitudes[5].round(5) # select the delta value corresponding to retraining on 10% size of original data"
   ],
   "metadata": {
    "collapsed": false
   }
  },
  {
   "cell_type": "code",
   "execution_count": 6,
   "outputs": [
    {
     "name": "stderr",
     "output_type": "stream",
     "text": [
      "100%|██████████| 5/5 [00:30<00:00,  6.07s/it]\n",
      "100%|██████████| 5/5 [00:15<00:00,  3.09s/it]\n"
     ]
    }
   ],
   "source": [
    "model.raw_model.to(\"cpu\")\n",
    "rt_models, val_set, val_y_set = get_retrained_models_and_validation_set(d, model, num_h_neurons=num_h_neurons, linear=True)"
   ],
   "metadata": {
    "collapsed": false
   }
  },
  {
   "cell_type": "code",
   "execution_count": 7,
   "outputs": [
    {
     "name": "stderr",
     "output_type": "stream",
     "text": [
      "0it [00:00, ?it/s]"
     ]
    },
    {
     "name": "stdout",
     "output_type": "stream",
     "text": [
      "Set parameter Username\n",
      "[INFO] Set parameter Username [intabs.py __init__]\n",
      "Academic license - for non-commercial use only - expires 2025-02-14\n",
      "[INFO] Academic license - for non-commercial use only - expires 2025-02-14 [intabs.py __init__]\n"
     ]
    },
    {
     "name": "stderr",
     "output_type": "stream",
     "text": [
      "4017it [00:03, 1018.83it/s]"
     ]
    },
    {
     "name": "stdout",
     "output_type": "stream",
     "text": [
      "False\n"
     ]
    },
    {
     "name": "stderr",
     "output_type": "stream",
     "text": [
      "\n"
     ]
    }
   ],
   "source": [
    "val_delta = 0.04\n",
    "print(test_delta_with_val_set(d, model, val_delta, val_set, rt_models))"
   ],
   "metadata": {
    "collapsed": false
   }
  },
  {
   "cell_type": "code",
   "execution_count": 8,
   "outputs": [
    {
     "data": {
      "text/plain": "<Figure size 640x480 with 1 Axes>",
      "image/png": "[encoded data removed]"
     },
     "metadata": {},
     "output_type": "display_data"
    }
   ],
   "source": [
    "# plot\n",
    "from intabs.evaluation import plot_deltas\n",
    "plot_deltas(val_delta, inc_delta, percentages, delta_magnitudes, data_name)"
   ],
   "metadata": {
    "collapsed": false
   }
  },
  {
   "cell_type": "code",
   "execution_count": 8,
   "outputs": [],
   "source": [],
   "metadata": {
    "collapsed": false
   }
  },
  {
   "cell_type": "code",
   "execution_count": 8,
   "outputs": [],
   "source": [],
   "metadata": {
    "collapsed": false
   }
  },
  {
   "cell_type": "markdown",
   "source": [
    "## Experiments 3\n",
    "\n",
    "Benchmarking CEs"
   ],
   "metadata": {
    "collapsed": false
   }
  },
  {
   "cell_type": "code",
   "execution_count": 9,
   "outputs": [
    {
     "name": "stderr",
     "output_type": "stream",
     "text": [
      "100%|██████████| 5/5 [00:23<00:00,  4.62s/it]\n",
      "100%|██████████| 5/5 [00:11<00:00,  2.28s/it]\n"
     ]
    }
   ],
   "source": [
    "from intabs.evaluation import *\n",
    "from intabs.methods import run_exps\n",
    "import logging\n",
    "logger = logging.getLogger()\n",
    "logger.setLevel(logging.CRITICAL)\n",
    "rt_models_eval = get_retrained_models_all(d, model, num_h_neurons=num_h_neurons, epochs=epochs, linear=True)"
   ],
   "metadata": {
    "collapsed": false
   }
  },
  {
   "cell_type": "code",
   "execution_count": 10,
   "outputs": [
    {
     "name": "stdout",
     "output_type": "stream",
     "text": [
      "===== running experiments 1/5 =====\n",
      "===== running our methods 8-12/17, incremental delta =====\n"
     ]
    },
    {
     "name": "stderr",
     "output_type": "stream",
     "text": [
      "8068it [00:07, 1062.18it/s]\n",
      "20it [00:00, 61.06it/s]\n"
     ]
    },
    {
     "name": "stdout",
     "output_type": "stream",
     "text": [
      "===== running our methods 13-17/17, validation delta =====\n"
     ]
    },
    {
     "name": "stderr",
     "output_type": "stream",
     "text": [
      "8068it [00:07, 1072.01it/s]\n",
      "20it [00:00, 63.36it/s]\n"
     ]
    }
   ],
   "source": [
    "from intabs.methods import run_exps_all_once_lr\n",
    "model.raw_model.to(\"cpu\")\n",
    "model = InnModel(d, torch_model, num_h_neurons)\n",
    "res_1 = run_exps_all_once_lr(d, model, rt_models_eval, rt_models, inc_delta, val_delta, random_seed=100050,\n",
    "                               run_id=1)\n"
   ],
   "metadata": {
    "collapsed": false
   }
  },
  {
   "cell_type": "code",
   "execution_count": 11,
   "outputs": [
    {
     "name": "stdout",
     "output_type": "stream",
     "text": [
      "===== running experiments 2/5 =====\n",
      "===== running our methods 8-12/17, incremental delta =====\n"
     ]
    },
    {
     "name": "stderr",
     "output_type": "stream",
     "text": [
      "8068it [00:07, 1067.30it/s]\n",
      "20it [00:00, 51.01it/s]\n"
     ]
    },
    {
     "name": "stdout",
     "output_type": "stream",
     "text": [
      "===== running our methods 13-17/17, validation delta =====\n"
     ]
    },
    {
     "name": "stderr",
     "output_type": "stream",
     "text": [
      "8068it [00:07, 1042.18it/s]\n",
      "20it [00:00, 55.61it/s]\n"
     ]
    }
   ],
   "source": [
    "res_2 = run_exps_all_once_lr(d, model, rt_models_eval, rt_models, inc_delta, val_delta, random_seed=7050,\n",
    "                               run_id=2)"
   ],
   "metadata": {
    "collapsed": false
   }
  },
  {
   "cell_type": "code",
   "execution_count": 12,
   "outputs": [
    {
     "name": "stdout",
     "output_type": "stream",
     "text": [
      "===== running experiments 3/5 =====\n",
      "===== running our methods 8-12/17, incremental delta =====\n"
     ]
    },
    {
     "name": "stderr",
     "output_type": "stream",
     "text": [
      "8068it [00:07, 1047.49it/s]\n",
      "20it [00:00, 48.77it/s]\n"
     ]
    },
    {
     "name": "stdout",
     "output_type": "stream",
     "text": [
      "===== running our methods 13-17/17, validation delta =====\n"
     ]
    },
    {
     "name": "stderr",
     "output_type": "stream",
     "text": [
      "8068it [00:09, 872.11it/s] \n",
      "20it [00:00, 53.14it/s]\n"
     ]
    }
   ],
   "source": [
    "res_3 = run_exps_all_once_lr(d, model, rt_models_eval, rt_models, inc_delta, val_delta, random_seed=3050,\n",
    "                               run_id=3)"
   ],
   "metadata": {
    "collapsed": false
   }
  },
  {
   "cell_type": "code",
   "execution_count": 13,
   "outputs": [
    {
     "name": "stdout",
     "output_type": "stream",
     "text": [
      "===== running experiments 4/5 =====\n",
      "===== running our methods 8-12/17, incremental delta =====\n"
     ]
    },
    {
     "name": "stderr",
     "output_type": "stream",
     "text": [
      "8068it [00:07, 1089.63it/s]\n",
      "20it [00:00, 56.08it/s]\n"
     ]
    },
    {
     "name": "stdout",
     "output_type": "stream",
     "text": [
      "===== running our methods 13-17/17, validation delta =====\n"
     ]
    },
    {
     "name": "stderr",
     "output_type": "stream",
     "text": [
      "8068it [00:07, 1086.09it/s]\n",
      "20it [00:00, 57.04it/s]\n"
     ]
    }
   ],
   "source": [
    "res_4 = run_exps_all_once_lr(d, model, rt_models_eval, rt_models, inc_delta, val_delta, random_seed=3990,\n",
    "                               run_id=4)"
   ],
   "metadata": {
    "collapsed": false
   }
  },
  {
   "cell_type": "code",
   "execution_count": 14,
   "outputs": [
    {
     "name": "stdout",
     "output_type": "stream",
     "text": [
      "===== running experiments 5/5 =====\n",
      "===== running our methods 8-12/17, incremental delta =====\n"
     ]
    },
    {
     "name": "stderr",
     "output_type": "stream",
     "text": [
      "8068it [00:07, 1107.89it/s]\n",
      "20it [00:00, 51.78it/s]\n"
     ]
    },
    {
     "name": "stdout",
     "output_type": "stream",
     "text": [
      "===== running our methods 13-17/17, validation delta =====\n"
     ]
    },
    {
     "name": "stderr",
     "output_type": "stream",
     "text": [
      "8068it [00:07, 1088.16it/s]\n",
      "20it [00:00, 55.62it/s]\n"
     ]
    }
   ],
   "source": [
    "res_5 = run_exps_all_once_lr(d, model, rt_models_eval, rt_models, inc_delta, val_delta, random_seed=6666,\n",
    "                               run_id=5)"
   ],
   "metadata": {
    "collapsed": false
   }
  },
  {
   "cell_type": "code",
   "execution_count": 15,
   "outputs": [
    {
     "name": "stdout",
     "output_type": "stream",
     "text": [
      "average results\n",
      "+--------------+------------+--------+-------+-------+--------------+--------------+\n",
      "| name         |   coverage |   cost |   lof |   vm2 |   vdelta-val |   vdelta-inc |\n",
      "+==============+============+========+=======+=======+==============+==============+\n",
      "| nnce         |          1 |  0.078 | 1.99  | 0.979 |         0.45 |         0.42 |\n",
      "| roar         |          1 |  0.265 | 1.688 | 1     |         1    |         1    |\n",
      "| rnce         |          1 |  0.087 | 2.176 | 1     |         1    |         1    |\n",
      "| rnce-opt     |          1 |  0.064 | 1.738 | 1     |         1    |         1    |\n",
      "| rnce-val     |          1 |  0.085 | 2.205 | 1     |         1    |         0.7  |\n",
      "| rnce-opt-val |          1 |  0.06  | 1.712 | 1     |         1    |         0.16 |\n",
      "+--------------+------------+--------+-------+-------+--------------+--------------+\n",
      "std results\n",
      "+--------------+------------+---------+---------+---------+--------------+--------------+\n",
      "| name         |   coverage |    cost |     lof |     vm2 |   vdelta-val |   vdelta-inc |\n",
      "+==============+============+=========+=========+=========+==============+==============+\n",
      "| nnce         |          0 | 0.01671 | 0.18824 | 0.02542 |      0.13038 |      0.14353 |\n",
      "| roar         |          0 | 0.02761 | 0.19725 | 0       |      0       |      0       |\n",
      "| rnce         |          0 | 0.01518 | 0.27256 | 0       |      0       |      0       |\n",
      "| rnce-opt     |          0 | 0.00919 | 0.10398 | 0       |      0       |      0       |\n",
      "| rnce-val     |          0 | 0.01606 | 0.25068 | 0       |      0       |      0.12247 |\n",
      "| rnce-opt-val |          0 | 0.01004 | 0.06986 | 0       |      0       |      0.09165 |\n",
      "+--------------+------------+---------+---------+---------+--------------+--------------+\n"
     ]
    }
   ],
   "source": [
    "from intabs.methods import run_exps_lr\n",
    "mean_res, std_res = run_exps_lr(res_1, res_2, res_3, res_4, res_5)"
   ],
   "metadata": {
    "collapsed": false
   }
  },
  {
   "cell_type": "code",
   "execution_count": 16,
   "outputs": [
    {
     "name": "stdout",
     "output_type": "stream",
     "text": [
      "average results\n",
      "+--------------+------------+--------+-------+-------+--------------+--------------+\n",
      "| name         |   coverage |   cost |   lof |   vm2 |   vdelta-val |   vdelta-inc |\n",
      "+==============+============+========+=======+=======+==============+==============+\n",
      "| nnce         |          1 |  0.106 | 2.318 | 0.997 |          0.7 |         0.7  |\n",
      "| roar         |          1 |  0.311 | 1.359 | 1     |          1   |         1    |\n",
      "| rnce         |          1 |  0.113 | 2.533 | 1     |          1   |         1    |\n",
      "| rnce-opt     |          1 |  0.078 | 1.813 | 1     |          1   |         1    |\n",
      "| rnce-val     |          1 |  0.112 | 2.581 | 1     |          1   |         0.9  |\n",
      "| rnce-opt-val |          1 |  0.074 | 1.804 | 1     |          1   |         0.25 |\n",
      "+--------------+------------+--------+-------+-------+--------------+--------------+\n",
      "std results\n",
      "+--------------+------------+--------+-------+-------+--------------+--------------+\n",
      "| name         |   coverage |   cost |   lof |   vm2 |   vdelta-val |   vdelta-inc |\n",
      "+==============+============+========+=======+=======+==============+==============+\n",
      "| nnce         |          0 |      0 |     0 |     0 |            0 |            0 |\n",
      "| roar         |          0 |      0 |     0 |     0 |            0 |            0 |\n",
      "| rnce         |          0 |      0 |     0 |     0 |            0 |            0 |\n",
      "| rnce-opt     |          0 |      0 |     0 |     0 |            0 |            0 |\n",
      "| rnce-val     |          0 |      0 |     0 |     0 |            0 |            0 |\n",
      "| rnce-opt-val |          0 |      0 |     0 |     0 |            0 |            0 |\n",
      "+--------------+------------+--------+-------+-------+--------------+--------------+\n"
     ]
    }
   ],
   "source": [
    "mean_res, std_res = run_exps_lr(res_1, res_1, res_1, res_1, res_1)"
   ],
   "metadata": {
    "collapsed": false
   }
  },
  {
   "cell_type": "code",
   "execution_count": 9,
   "outputs": [
    {
     "data": {
      "text/plain": "array([0.61701413, 0.3454652 , 0.03752067])"
     },
     "execution_count": 9,
     "metadata": {},
     "output_type": "execute_result"
    }
   ],
   "source": [
    "import numpy as np\n",
    "def softmax(inputs):\n",
    "    return np.exp(inputs)/sum(np.exp(inputs))\n",
    "\n",
    "softmax([1.4, 0.82, -1.4])"
   ],
   "metadata": {
    "collapsed": false
   }
  }
 ],
 "metadata": {
  "kernelspec": {
   "display_name": "Python 3",
   "language": "python",
   "name": "python3"
  },
  "language_info": {
   "codemirror_mode": {
    "name": "ipython",
    "version": 2
   },
   "file_extension": ".py",
   "mimetype": "text/x-python",
   "name": "python",
   "nbconvert_exporter": "python",
   "pygments_lexer": "ipython2",
   "version": "2.7.6"
  }
 },
 "nbformat": 4,
 "nbformat_minor": 0
}
