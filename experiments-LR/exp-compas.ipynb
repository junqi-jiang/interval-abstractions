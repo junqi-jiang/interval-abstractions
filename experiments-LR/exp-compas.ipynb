{
 "cells": [
  {
   "cell_type": "markdown",
   "source": [
    "## Load dataset and train classifier"
   ],
   "metadata": {
    "collapsed": false
   }
  },
  {
   "cell_type": "code",
   "execution_count": 17,
   "outputs": [
    {
     "name": "stdout",
     "output_type": "stream",
     "text": [
      "The autoreload extension is already loaded. To reload it, use:\n",
      "  %reload_ext autoreload\n"
     ]
    }
   ],
   "source": [
    "import time\n",
    "import warnings\n",
    "import numpy as np\n",
    "warnings.filterwarnings('ignore')\n",
    "import logging\n",
    "logger = logging.getLogger()\n",
    "logger.setLevel(logging.CRITICAL)\n",
    "%load_ext autoreload\n",
    "%autoreload 2"
   ],
   "metadata": {
    "collapsed": false
   }
  },
  {
   "cell_type": "code",
   "execution_count": 18,
   "outputs": [
    {
     "name": "stderr",
     "output_type": "stream",
     "text": [
      "Using TensorFlow backend.\n"
     ]
    },
    {
     "name": "stdout",
     "output_type": "stream",
     "text": [
      "[INFO] Using Python-MIP package version 1.12.0 [model.py <module>]\n",
      "[WARNING] \n",
      "The TensorFlow contrib module will not be included in TensorFlow 2.0.\n",
      "For more information, please see:\n",
      "  * https://github.com/tensorflow/community/blob/master/rfcs/20180907-contrib-sunset.md\n",
      "  * https://github.com/tensorflow/addons\n",
      "  * https://github.com/tensorflow/io (for I/O related ops)\n",
      "If you depend on functionality not listed there, please file an issue.\n",
      " [lazy_loader.py _load]\n"
     ]
    }
   ],
   "source": [
    "from intabs.dataset import InnDataSet\n",
    "data_name = \"compas\"\n",
    "dataset = InnDataSet(data_name)"
   ],
   "metadata": {
    "collapsed": false
   }
  },
  {
   "cell_type": "code",
   "execution_count": 19,
   "outputs": [
    {
     "name": "stdout",
     "output_type": "stream",
     "text": [
      "5028 (6172,)\n",
      "5028 (6172,)\n"
     ]
    }
   ],
   "source": [
    "print(dataset.df.score.values.sum(), dataset.df.score.values.shape)"
   ],
   "metadata": {
    "collapsed": false
   }
  },
  {
   "cell_type": "code",
   "execution_count": 20,
   "outputs": [
    {
     "name": "stdout",
     "output_type": "stream",
     "text": [
      "Using cuda device\n",
      "accuracy: 0.8327390599675851+-0.010573423941847702\n",
      "Using cuda device\n",
      "accuracy: 0.8327390599675851+-0.010573423941847702\n"
     ]
    }
   ],
   "source": [
    "from intabs.classifier_binary import cross_validation, train_clf, InnModel\n",
    "d = dataset\n",
    "epochs = 49\n",
    "num_h_neurons=None\n",
    "cross_validation(d, num_h_neurons=None, epochs=epochs, data_name=data_name, linear=True)"
   ],
   "metadata": {
    "collapsed": false
   }
  },
  {
   "cell_type": "code",
   "execution_count": 21,
   "outputs": [
    {
     "name": "stdout",
     "output_type": "stream",
     "text": [
      "Evaluations on training data\n",
      "\n",
      "                  precision    recall  f1-score   support\n",
      "\n",
      " bad credit (0)      0.732     0.198     0.312       470\n",
      "good credit (1)      0.839     0.983     0.905      1998\n",
      "\n",
      "       accuracy                          0.833      2468\n",
      "      macro avg      0.786     0.590     0.608      2468\n",
      "   weighted avg      0.819     0.833     0.792      2468\n",
      "\n",
      "Evaluations on testing data\n",
      "\n",
      "                  precision    recall  f1-score   support\n",
      "\n",
      " bad credit (0)      0.725     0.248     0.369       117\n",
      "good credit (1)      0.847     0.978     0.908       500\n",
      "\n",
      "       accuracy                          0.840       617\n",
      "      macro avg      0.786     0.613     0.639       617\n",
      "   weighted avg      0.824     0.840     0.806       617\n",
      "\n",
      "Evaluations on training data\n",
      "\n",
      "                  precision    recall  f1-score   support\n",
      "\n",
      " bad credit (0)      0.732     0.198     0.312       470\n",
      "good credit (1)      0.839     0.983     0.905      1998\n",
      "\n",
      "       accuracy                          0.833      2468\n",
      "      macro avg      0.786     0.590     0.608      2468\n",
      "   weighted avg      0.819     0.833     0.792      2468\n",
      "\n",
      "Evaluations on testing data\n",
      "\n",
      "                  precision    recall  f1-score   support\n",
      "\n",
      " bad credit (0)      0.725     0.248     0.369       117\n",
      "good credit (1)      0.847     0.978     0.908       500\n",
      "\n",
      "       accuracy                          0.840       617\n",
      "      macro avg      0.786     0.613     0.639       617\n",
      "   weighted avg      0.824     0.840     0.806       617\n",
      "\n"
     ]
    }
   ],
   "source": [
    "torch_model = train_clf(d.X1_train, d.y1_train, d.X1_test, d.y1_test, num_h_neurons, epochs, data_name, save_clf=False, load_clf=False,linear=True)\n",
    "model = InnModel(d, torch_model, num_h_neurons)"
   ],
   "metadata": {
    "collapsed": false
   }
  },
  {
   "cell_type": "markdown",
   "source": [
    "## Experiments 1\n",
    "\n",
    "First, get $\\delta$ value using incremental retraining, and get $\\delta$ value using validation set"
   ],
   "metadata": {
    "collapsed": false
   }
  },
  {
   "cell_type": "code",
   "execution_count": 22,
   "outputs": [
    {
     "name": "stderr",
     "output_type": "stream",
     "text": [
      "100%|██████████| 51/51 [00:05<00:00,  8.71it/s]\n",
      "100%|██████████| 51/51 [00:05<00:00,  9.07it/s]\n"
     ]
    }
   ],
   "source": [
    "from intabs.evaluation import get_delta_incremental_training, get_retrained_models_and_validation_set, test_delta_with_val_set\n",
    "percentages, delta_magnitudes = get_delta_incremental_training(d, model)\n",
    "inc_delta = delta_magnitudes[5].round(5) # select the delta value corresponding to retraining on 10% size of original data"
   ],
   "metadata": {
    "collapsed": false
   }
  },
  {
   "cell_type": "code",
   "execution_count": 23,
   "outputs": [
    {
     "name": "stderr",
     "output_type": "stream",
     "text": [
      "100%|██████████| 5/5 [00:09<00:00,  1.84s/it]\n",
      "100%|██████████| 5/5 [00:04<00:00,  1.08it/s]\n",
      "100%|██████████| 5/5 [00:09<00:00,  1.86s/it]\n",
      "100%|██████████| 5/5 [00:04<00:00,  1.09it/s]\n"
     ]
    }
   ],
   "source": [
    "model.raw_model.to(\"cpu\")\n",
    "rt_models, val_set, val_y_set =  get_retrained_models_and_validation_set(d, model, num_h_neurons=num_h_neurons, epochs=epochs, linear=True)"
   ],
   "metadata": {
    "collapsed": false
   }
  },
  {
   "cell_type": "code",
   "execution_count": 24,
   "outputs": [
    {
     "name": "stderr",
     "output_type": "stream",
     "text": [
      "0it [00:00, ?it/s]"
     ]
    },
    {
     "name": "stdout",
     "output_type": "stream",
     "text": [
      "Set parameter Username\n",
      "[INFO] Set parameter Username [intabs.py __init__]\n",
      "Academic license - for non-commercial use only - expires 2025-02-14\n",
      "[INFO] Academic license - for non-commercial use only - expires 2025-02-14 [intabs.py __init__]\n"
     ]
    },
    {
     "name": "stderr",
     "output_type": "stream",
     "text": [
      "2918it [00:01, 1587.22it/s]"
     ]
    },
    {
     "name": "stdout",
     "output_type": "stream",
     "text": [
      "True\n"
     ]
    },
    {
     "name": "stderr",
     "output_type": "stream",
     "text": [
      "\n",
      "2918it [00:01, 1579.60it/s]"
     ]
    },
    {
     "name": "stdout",
     "output_type": "stream",
     "text": [
      "True\n"
     ]
    },
    {
     "name": "stderr",
     "output_type": "stream",
     "text": [
      "\n"
     ]
    }
   ],
   "source": [
    "val_delta = 0.08\n",
    "inc_delta = delta_magnitudes[5].round(5)\n",
    "print(test_delta_with_val_set(d, model, val_delta, val_set, rt_models))"
   ],
   "metadata": {
    "collapsed": false
   }
  },
  {
   "cell_type": "code",
   "execution_count": 25,
   "outputs": [
    {
     "data": {
      "text/plain": "<Figure size 640x480 with 1 Axes>",
      "image/png": "[encoded data removed]"
     },
     "metadata": {},
     "output_type": "display_data"
    },
    {
     "data": {
      "text/plain": "<Figure size 640x480 with 1 Axes>",
      "image/png": "[encoded data removed]"
     },
     "metadata": {},
     "output_type": "display_data"
    }
   ],
   "source": [
    "# plot\n",
    "from intabs.evaluation import plot_deltas\n",
    "plot_deltas(val_delta, inc_delta, percentages, delta_magnitudes, data_name)"
   ],
   "metadata": {
    "collapsed": false
   }
  },
  {
   "cell_type": "code",
   "execution_count": 25,
   "outputs": [],
   "source": [],
   "metadata": {
    "collapsed": false
   }
  },
  {
   "cell_type": "code",
   "execution_count": 25,
   "outputs": [],
   "source": [],
   "metadata": {
    "collapsed": false
   }
  },
  {
   "cell_type": "markdown",
   "source": [
    "## Experiments 3\n",
    "\n",
    "Benchmarking CEs"
   ],
   "metadata": {
    "collapsed": false
   }
  },
  {
   "cell_type": "code",
   "execution_count": 26,
   "outputs": [
    {
     "name": "stderr",
     "output_type": "stream",
     "text": [
      "100%|██████████| 5/5 [00:09<00:00,  1.90s/it]\n",
      "100%|██████████| 5/5 [00:04<00:00,  1.06it/s]\n",
      "100%|██████████| 5/5 [00:10<00:00,  2.03s/it]\n",
      "100%|██████████| 5/5 [00:04<00:00,  1.08it/s]\n"
     ]
    }
   ],
   "source": [
    "from intabs.evaluation import *\n",
    "from intabs.methods import run_exps\n",
    "import logging\n",
    "logger = logging.getLogger()\n",
    "logger.setLevel(logging.CRITICAL)\n",
    "model.raw_model.to(\"cpu\")\n",
    "rt_models_eval = get_retrained_models_all(d, model, num_h_neurons=num_h_neurons, epochs=epochs, linear=True)"
   ],
   "metadata": {
    "collapsed": false
   }
  },
  {
   "cell_type": "code",
   "execution_count": 27,
   "outputs": [
    {
     "name": "stdout",
     "output_type": "stream",
     "text": [
      "===== running experiments 1/5 =====\n",
      "===== running our methods 8-12/17, incremental delta =====\n"
     ]
    },
    {
     "name": "stderr",
     "output_type": "stream",
     "text": [
      "5835it [00:03, 1650.59it/s]\n",
      "20it [00:00, 74.16it/s]\n"
     ]
    },
    {
     "name": "stdout",
     "output_type": "stream",
     "text": [
      "===== running our methods 13-17/17, validation delta =====\n"
     ]
    },
    {
     "name": "stderr",
     "output_type": "stream",
     "text": [
      "5835it [00:03, 1664.73it/s]\n",
      "20it [00:00, 69.54it/s]\n"
     ]
    },
    {
     "name": "stdout",
     "output_type": "stream",
     "text": [
      "===== running experiments 1/5 =====\n",
      "===== running our methods 8-12/17, incremental delta =====\n"
     ]
    },
    {
     "name": "stderr",
     "output_type": "stream",
     "text": [
      "5835it [00:03, 1590.79it/s]\n",
      "20it [00:00, 73.07it/s]\n"
     ]
    },
    {
     "name": "stdout",
     "output_type": "stream",
     "text": [
      "===== running our methods 13-17/17, validation delta =====\n"
     ]
    },
    {
     "name": "stderr",
     "output_type": "stream",
     "text": [
      "5835it [00:03, 1594.93it/s]\n",
      "20it [00:00, 68.35it/s]\n"
     ]
    }
   ],
   "source": [
    "from intabs.methods import run_exps_all_once_lr\n",
    "model.raw_model.to(\"cpu\")\n",
    "model = InnModel(d, torch_model, num_h_neurons)\n",
    "res_1 = run_exps_all_once_lr(d, model, rt_models, rt_models, inc_delta, val_delta, random_seed=100050,\n",
    "                               run_id=1)\n"
   ],
   "metadata": {
    "collapsed": false
   }
  },
  {
   "cell_type": "code",
   "execution_count": 28,
   "outputs": [
    {
     "name": "stdout",
     "output_type": "stream",
     "text": [
      "===== running experiments 2/5 =====\n",
      "===== running our methods 8-12/17, incremental delta =====\n"
     ]
    },
    {
     "name": "stderr",
     "output_type": "stream",
     "text": [
      "5835it [00:03, 1640.67it/s]\n",
      "20it [00:00, 69.74it/s]\n"
     ]
    },
    {
     "name": "stdout",
     "output_type": "stream",
     "text": [
      "===== running our methods 13-17/17, validation delta =====\n"
     ]
    },
    {
     "name": "stderr",
     "output_type": "stream",
     "text": [
      "5835it [00:03, 1647.46it/s]\n",
      "20it [00:00, 69.07it/s]\n"
     ]
    },
    {
     "name": "stdout",
     "output_type": "stream",
     "text": [
      "===== running experiments 2/5 =====\n",
      "===== running our methods 8-12/17, incremental delta =====\n"
     ]
    },
    {
     "name": "stderr",
     "output_type": "stream",
     "text": [
      "5835it [00:03, 1589.03it/s]\n",
      "20it [00:00, 63.37it/s]\n"
     ]
    },
    {
     "name": "stdout",
     "output_type": "stream",
     "text": [
      "===== running our methods 13-17/17, validation delta =====\n"
     ]
    },
    {
     "name": "stderr",
     "output_type": "stream",
     "text": [
      "5835it [00:03, 1533.26it/s]\n",
      "20it [00:00, 69.54it/s]\n"
     ]
    }
   ],
   "source": [
    "res_2 = run_exps_all_once_lr(d, model, rt_models, rt_models, inc_delta, val_delta, random_seed=7050,\n",
    "                               run_id=2)"
   ],
   "metadata": {
    "collapsed": false
   }
  },
  {
   "cell_type": "code",
   "execution_count": 29,
   "outputs": [
    {
     "name": "stdout",
     "output_type": "stream",
     "text": [
      "===== running experiments 3/5 =====\n",
      "===== running our methods 8-12/17, incremental delta =====\n"
     ]
    },
    {
     "name": "stderr",
     "output_type": "stream",
     "text": [
      "5835it [00:03, 1644.70it/s]\n",
      "20it [00:00, 72.28it/s]\n"
     ]
    },
    {
     "name": "stdout",
     "output_type": "stream",
     "text": [
      "===== running our methods 13-17/17, validation delta =====\n"
     ]
    },
    {
     "name": "stderr",
     "output_type": "stream",
     "text": [
      "5835it [00:03, 1606.74it/s]\n",
      "20it [00:00, 64.17it/s]\n"
     ]
    },
    {
     "name": "stdout",
     "output_type": "stream",
     "text": [
      "===== running experiments 3/5 =====\n",
      "===== running our methods 8-12/17, incremental delta =====\n"
     ]
    },
    {
     "name": "stderr",
     "output_type": "stream",
     "text": [
      "5835it [00:03, 1619.74it/s]\n",
      "20it [00:00, 70.52it/s]\n"
     ]
    },
    {
     "name": "stdout",
     "output_type": "stream",
     "text": [
      "===== running our methods 13-17/17, validation delta =====\n"
     ]
    },
    {
     "name": "stderr",
     "output_type": "stream",
     "text": [
      "5835it [00:03, 1615.19it/s]\n",
      "20it [00:00, 66.75it/s]\n"
     ]
    }
   ],
   "source": [
    "res_3 = run_exps_all_once_lr(d, model, rt_models, rt_models, inc_delta, val_delta, random_seed=3050,\n",
    "                               run_id=3)"
   ],
   "metadata": {
    "collapsed": false
   }
  },
  {
   "cell_type": "code",
   "execution_count": 30,
   "outputs": [
    {
     "name": "stdout",
     "output_type": "stream",
     "text": [
      "===== running experiments 4/5 =====\n",
      "===== running our methods 8-12/17, incremental delta =====\n"
     ]
    },
    {
     "name": "stderr",
     "output_type": "stream",
     "text": [
      "5835it [00:03, 1587.60it/s]\n",
      "20it [00:00, 72.76it/s]\n"
     ]
    },
    {
     "name": "stdout",
     "output_type": "stream",
     "text": [
      "===== running our methods 13-17/17, validation delta =====\n"
     ]
    },
    {
     "name": "stderr",
     "output_type": "stream",
     "text": [
      "5835it [00:03, 1634.27it/s]\n",
      "20it [00:00, 69.46it/s]\n"
     ]
    },
    {
     "name": "stdout",
     "output_type": "stream",
     "text": [
      "===== running experiments 4/5 =====\n",
      "===== running our methods 8-12/17, incremental delta =====\n"
     ]
    },
    {
     "name": "stderr",
     "output_type": "stream",
     "text": [
      "5835it [00:03, 1575.22it/s]\n",
      "20it [00:00, 71.47it/s]\n"
     ]
    },
    {
     "name": "stdout",
     "output_type": "stream",
     "text": [
      "===== running our methods 13-17/17, validation delta =====\n"
     ]
    },
    {
     "name": "stderr",
     "output_type": "stream",
     "text": [
      "5835it [00:04, 1370.53it/s]\n",
      "20it [00:00, 35.53it/s]\n"
     ]
    }
   ],
   "source": [
    "res_4 = run_exps_all_once_lr(d, model, rt_models, rt_models, inc_delta, val_delta, random_seed=3990,\n",
    "                               run_id=4)"
   ],
   "metadata": {
    "collapsed": false
   }
  },
  {
   "cell_type": "code",
   "execution_count": 31,
   "outputs": [
    {
     "name": "stdout",
     "output_type": "stream",
     "text": [
      "===== running experiments 5/5 =====\n",
      "===== running our methods 8-12/17, incremental delta =====\n"
     ]
    },
    {
     "name": "stderr",
     "output_type": "stream",
     "text": [
      "5835it [00:03, 1627.81it/s]\n",
      "20it [00:00, 69.99it/s]\n"
     ]
    },
    {
     "name": "stdout",
     "output_type": "stream",
     "text": [
      "===== running our methods 13-17/17, validation delta =====\n"
     ]
    },
    {
     "name": "stderr",
     "output_type": "stream",
     "text": [
      "5835it [00:03, 1619.12it/s]\n",
      "20it [00:00, 68.31it/s]\n"
     ]
    },
    {
     "name": "stdout",
     "output_type": "stream",
     "text": [
      "===== running experiments 5/5 =====\n",
      "===== running our methods 8-12/17, incremental delta =====\n"
     ]
    },
    {
     "name": "stderr",
     "output_type": "stream",
     "text": [
      "5835it [00:04, 1429.69it/s]\n",
      "20it [00:00, 64.48it/s]\n"
     ]
    },
    {
     "name": "stdout",
     "output_type": "stream",
     "text": [
      "===== running our methods 13-17/17, validation delta =====\n"
     ]
    },
    {
     "name": "stderr",
     "output_type": "stream",
     "text": [
      "5835it [00:03, 1565.17it/s]\n",
      "20it [00:00, 66.19it/s]\n"
     ]
    }
   ],
   "source": [
    "res_5 = run_exps_all_once_lr(d, model, rt_models, rt_models, inc_delta, val_delta, random_seed=6666,\n",
    "                               run_id=5)"
   ],
   "metadata": {
    "collapsed": false
   }
  },
  {
   "cell_type": "code",
   "execution_count": 32,
   "outputs": [
    {
     "name": "stdout",
     "output_type": "stream",
     "text": [
      "average results\n",
      "+--------------+------------+--------+-------+-------+--------------+--------------+\n",
      "| name         |   coverage |   cost |   lof |   vm2 |   vdelta-val |   vdelta-inc |\n",
      "+==============+============+========+=======+=======+==============+==============+\n",
      "| nnce         |          1 |  0.034 | 1.318 | 0.736 |         0.01 |         0.49 |\n",
      "| roar         |          1 |  0.22  | 2.592 | 1     |         1    |         1    |\n",
      "| rnce         |          1 |  0.035 | 1.3   | 0.861 |         0.01 |         1    |\n",
      "| rnce-opt     |          1 |  0.033 | 1.344 | 0.781 |         0    |         1    |\n",
      "| rnce-val     |          1 |  0.045 | 1.219 | 1     |         1    |         1    |\n",
      "| rnce-opt-val |          1 |  0.043 | 1.296 | 1     |         1    |         1    |\n",
      "+--------------+------------+--------+-------+-------+--------------+--------------+\n",
      "std results\n",
      "+--------------+------------+---------+---------+---------+--------------+--------------+\n",
      "| name         |   coverage |    cost |     lof |     vm2 |   vdelta-val |   vdelta-inc |\n",
      "+==============+============+=========+=========+=========+==============+==============+\n",
      "| nnce         |          0 | 0.00273 | 0.06751 | 0.02478 |         0.02 |      0.03742 |\n",
      "| roar         |          0 | 0.00165 | 0.15082 | 0       |         0    |      0       |\n",
      "| rnce         |          0 | 0.00269 | 0.06798 | 0.0153  |         0.02 |      0       |\n",
      "| rnce-opt     |          0 | 0.00229 | 0.09277 | 0.02223 |         0    |      0       |\n",
      "| rnce-val     |          0 | 0.00276 | 0.03206 | 0       |         0    |      0       |\n",
      "| rnce-opt-val |          0 | 0.00231 | 0.05992 | 0       |         0    |      0       |\n",
      "+--------------+------------+---------+---------+---------+--------------+--------------+\n",
      "average results\n",
      "+--------------+------------+--------+-------+-------+--------------+--------------+\n",
      "| name         |   coverage |   cost |   lof |   vm2 |   vdelta-val |   vdelta-inc |\n",
      "+==============+============+========+=======+=======+==============+==============+\n",
      "| nnce         |          1 |  0.034 | 1.318 | 0.736 |         0.01 |         0.49 |\n",
      "| roar         |          1 |  0.22  | 2.592 | 1     |         1    |         1    |\n",
      "| rnce         |          1 |  0.035 | 1.3   | 0.861 |         0.01 |         1    |\n",
      "| rnce-opt     |          1 |  0.033 | 1.344 | 0.781 |         0    |         1    |\n",
      "| rnce-val     |          1 |  0.045 | 1.219 | 1     |         1    |         1    |\n",
      "| rnce-opt-val |          1 |  0.043 | 1.296 | 1     |         1    |         1    |\n",
      "+--------------+------------+--------+-------+-------+--------------+--------------+\n",
      "std results\n",
      "+--------------+------------+---------+---------+---------+--------------+--------------+\n",
      "| name         |   coverage |    cost |     lof |     vm2 |   vdelta-val |   vdelta-inc |\n",
      "+==============+============+=========+=========+=========+==============+==============+\n",
      "| nnce         |          0 | 0.00273 | 0.06751 | 0.02478 |         0.02 |      0.03742 |\n",
      "| roar         |          0 | 0.00165 | 0.15082 | 0       |         0    |      0       |\n",
      "| rnce         |          0 | 0.00269 | 0.06798 | 0.0153  |         0.02 |      0       |\n",
      "| rnce-opt     |          0 | 0.00229 | 0.09277 | 0.02223 |         0    |      0       |\n",
      "| rnce-val     |          0 | 0.00276 | 0.03206 | 0       |         0    |      0       |\n",
      "| rnce-opt-val |          0 | 0.00231 | 0.05992 | 0       |         0    |      0       |\n",
      "+--------------+------------+---------+---------+---------+--------------+--------------+\n"
     ]
    }
   ],
   "source": [
    "from intabs.methods import run_exps_lr\n",
    "mean_res, std_res = run_exps_lr(res_1, res_2, res_3, res_4, res_5)"
   ],
   "metadata": {
    "collapsed": false
   }
  },
  {
   "cell_type": "code",
   "execution_count": 32,
   "outputs": [],
   "source": [],
   "metadata": {
    "collapsed": false
   }
  },
  {
   "cell_type": "code",
   "execution_count": 32,
   "outputs": [],
   "source": [],
   "metadata": {
    "collapsed": false
   }
  },
  {
   "cell_type": "code",
   "execution_count": 32,
   "outputs": [],
   "source": [],
   "metadata": {
    "collapsed": false
   }
  },
  {
   "cell_type": "code",
   "execution_count": 32,
   "outputs": [],
   "source": [],
   "metadata": {
    "collapsed": false
   }
  }
 ],
 "metadata": {
  "kernelspec": {
   "display_name": "Python 3",
   "language": "python",
   "name": "python3"
  },
  "language_info": {
   "codemirror_mode": {
    "name": "ipython",
    "version": 2
   },
   "file_extension": ".py",
   "mimetype": "text/x-python",
   "name": "python",
   "nbconvert_exporter": "python",
   "pygments_lexer": "ipython2",
   "version": "2.7.6"
  }
 },
 "nbformat": 4,
 "nbformat_minor": 0
}
