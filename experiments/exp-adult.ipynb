{
 "cells": [
  {
   "cell_type": "markdown",
   "source": [
    "## Load dataset and train classifier"
   ],
   "metadata": {
    "collapsed": false
   }
  },
  {
   "cell_type": "code",
   "execution_count": 1,
   "outputs": [],
   "source": [
    "import time\n",
    "import warnings\n",
    "import numpy as np\n",
    "warnings.filterwarnings('ignore')\n",
    "import logging\n",
    "logger = logging.getLogger()\n",
    "logger.setLevel(logging.CRITICAL)\n",
    "%load_ext autoreload\n",
    "%autoreload 2"
   ],
   "metadata": {
    "collapsed": false
   }
  },
  {
   "cell_type": "code",
   "execution_count": 2,
   "outputs": [
    {
     "name": "stderr",
     "output_type": "stream",
     "text": [
      "Using TensorFlow backend.\n"
     ]
    },
    {
     "name": "stdout",
     "output_type": "stream",
     "text": [
      "[INFO] Using Python-MIP package version 1.12.0 [model.py <module>]\n",
      "[WARNING] \n",
      "The TensorFlow contrib module will not be included in TensorFlow 2.0.\n",
      "For more information, please see:\n",
      "  * https://github.com/tensorflow/community/blob/master/rfcs/20180907-contrib-sunset.md\n",
      "  * https://github.com/tensorflow/addons\n",
      "  * https://github.com/tensorflow/io (for I/O related ops)\n",
      "If you depend on functionality not listed there, please file an issue.\n",
      " [lazy_loader.py _load]\n"
     ]
    }
   ],
   "source": [
    "from intabs.dataset import InnDataSet\n",
    "data_name = \"adult\"\n",
    "dataset = InnDataSet(data_name)"
   ],
   "metadata": {
    "collapsed": false
   }
  },
  {
   "cell_type": "code",
   "execution_count": 3,
   "outputs": [
    {
     "name": "stdout",
     "output_type": "stream",
     "text": [
      "Using cuda device\n",
      "accuracy: 0.8465697317223018+-0.006021585329471834\n"
     ]
    }
   ],
   "source": [
    "from intabs.classifier_binary import cross_validation, train_clf, InnModel\n",
    "d = dataset\n",
    "num_h_neurons = 20\n",
    "epochs = 15\n",
    "cross_validation(d, num_h_neurons, epochs, data_name)"
   ],
   "metadata": {
    "collapsed": false
   }
  },
  {
   "cell_type": "code",
   "execution_count": 4,
   "outputs": [
    {
     "name": "stdout",
     "output_type": "stream",
     "text": [
      "Evaluations on training data\n",
      "\n",
      "                  precision    recall  f1-score   support\n",
      "\n",
      " bad credit (0)      0.876     0.936     0.905     14854\n",
      "good credit (1)      0.742     0.581     0.651      4678\n",
      "\n",
      "       accuracy                          0.851     19532\n",
      "      macro avg      0.809     0.758     0.778     19532\n",
      "   weighted avg      0.844     0.851     0.845     19532\n",
      "\n",
      "Evaluations on testing data\n",
      "\n",
      "                  precision    recall  f1-score   support\n",
      "\n",
      " bad credit (0)      0.867     0.934     0.899      3713\n",
      "good credit (1)      0.722     0.546     0.622      1170\n",
      "\n",
      "       accuracy                          0.841      4883\n",
      "      macro avg      0.795     0.740     0.761      4883\n",
      "   weighted avg      0.832     0.841     0.833      4883\n",
      "\n"
     ]
    }
   ],
   "source": [
    "torch_model = train_clf(d.X1_train, d.y1_train, d.X1_test, d.y1_test, num_h_neurons, epochs, data_name, save_clf=False, load_clf=False)\n",
    "model = InnModel(d, torch_model, num_h_neurons)"
   ],
   "metadata": {
    "collapsed": false
   }
  },
  {
   "cell_type": "markdown",
   "source": [
    "## Experiments 1\n",
    "\n",
    "First, get $\\delta$ value using incremental retraining, and get $\\delta$ value using validation set"
   ],
   "metadata": {
    "collapsed": false
   }
  },
  {
   "cell_type": "code",
   "execution_count": 5,
   "outputs": [
    {
     "name": "stderr",
     "output_type": "stream",
     "text": [
      "100%|██████████| 51/51 [00:59<00:00,  1.17s/it]\n"
     ]
    }
   ],
   "source": [
    "from intabs.evaluation import get_delta_incremental_training, get_retrained_models_and_validation_set, test_delta_with_val_set\n",
    "percentages, delta_magnitudes = get_delta_incremental_training(d, model)\n",
    "inc_delta = delta_magnitudes[5].round(5) # select the delta value corresponding to retraining on 10% size of original data"
   ],
   "metadata": {
    "collapsed": false
   }
  },
  {
   "cell_type": "code",
   "execution_count": 6,
   "outputs": [
    {
     "name": "stderr",
     "output_type": "stream",
     "text": [
      "100%|██████████| 5/5 [00:48<00:00,  9.69s/it]\n",
      "100%|██████████| 5/5 [00:22<00:00,  4.52s/it]\n"
     ]
    }
   ],
   "source": [
    "model.raw_model.to(\"cpu\")\n",
    "rt_models, val_set, val_y_set = get_retrained_models_and_validation_set(d, model)"
   ],
   "metadata": {
    "collapsed": false
   }
  },
  {
   "cell_type": "code",
   "execution_count": 7,
   "outputs": [
    {
     "name": "stderr",
     "output_type": "stream",
     "text": [
      "0it [00:00, ?it/s]"
     ]
    },
    {
     "name": "stdout",
     "output_type": "stream",
     "text": [
      "Set parameter Username\n",
      "[INFO] Set parameter Username [intabs.py __init__]\n",
      "Academic license - for non-commercial use only - expires 2025-02-14\n",
      "[INFO] Academic license - for non-commercial use only - expires 2025-02-14 [intabs.py __init__]\n"
     ]
    },
    {
     "name": "stderr",
     "output_type": "stream",
     "text": [
      "4547it [02:10, 34.82it/s]"
     ]
    },
    {
     "name": "stdout",
     "output_type": "stream",
     "text": [
      "True\n"
     ]
    },
    {
     "name": "stderr",
     "output_type": "stream",
     "text": [
      "\n"
     ]
    }
   ],
   "source": [
    "val_delta = 0.02\n",
    "print(test_delta_with_val_set(d, model, val_delta, val_set, rt_models))"
   ],
   "metadata": {
    "collapsed": false
   }
  },
  {
   "cell_type": "code",
   "execution_count": 8,
   "outputs": [
    {
     "data": {
      "text/plain": "<Figure size 640x480 with 1 Axes>",
      "image/png": "[encoded data removed]"
     },
     "metadata": {},
     "output_type": "display_data"
    }
   ],
   "source": [
    "# plot\n",
    "from intabs.evaluation import plot_deltas\n",
    "plot_deltas(val_delta, inc_delta, percentages, delta_magnitudes, data_name)"
   ],
   "metadata": {
    "collapsed": false
   }
  },
  {
   "cell_type": "code",
   "execution_count": 8,
   "outputs": [],
   "source": [],
   "metadata": {
    "collapsed": false
   }
  },
  {
   "cell_type": "markdown",
   "source": [
    "## Experiments 2\n",
    "\n",
    "Evaluating $\\Delta$-robustness"
   ],
   "metadata": {
    "collapsed": false
   }
  },
  {
   "cell_type": "code",
   "execution_count": 9,
   "outputs": [],
   "source": [
    "import logging\n",
    "logger = logging.getLogger()\n",
    "logger.setLevel(logging.CRITICAL)\n",
    "from intabs.evaluation import *\n",
    "test_set, test_set_df, test_set_full_df = get_test_inputs(d, model, 50)"
   ],
   "metadata": {
    "collapsed": false
   }
  },
  {
   "cell_type": "code",
   "execution_count": 10,
   "outputs": [],
   "source": [
    "from intabs.methods import roar, gce, mce, gce_r, mce_r, proto_r, rnce\n",
    "deltas_plot = get_deltas_plot(inc_delta, val_delta)"
   ],
   "metadata": {
    "collapsed": false
   }
  },
  {
   "cell_type": "code",
   "execution_count": 11,
   "outputs": [],
   "source": [
    "roar_ces_plot = roar(test_set_full_df, model, lr=0.02, lambda_=0.001, delta_max=inc_delta)\n",
    "roar_delta_validity = delta_robustness_test_for_plots(d, model, roar_ces_plot, deltas_plot)"
   ],
   "metadata": {
    "collapsed": false
   }
  },
  {
   "cell_type": "code",
   "execution_count": 12,
   "outputs": [],
   "source": [
    "gce_ces_plot = gce(test_set, model)\n",
    "gce_delta_validity = delta_robustness_test_for_plots(d, model, gce_ces_plot, deltas_plot)"
   ],
   "metadata": {
    "collapsed": false
   }
  },
  {
   "cell_type": "code",
   "execution_count": 13,
   "outputs": [],
   "source": [
    "mce_ces_plot = mce(test_set, d, model)\n",
    "mce_delta_validity = delta_robustness_test_for_plots(d, model, mce_ces_plot, deltas_plot)"
   ],
   "metadata": {
    "collapsed": false
   }
  },
  {
   "cell_type": "code",
   "execution_count": 14,
   "outputs": [
    {
     "name": "stderr",
     "output_type": "stream",
     "text": [
      "0it [00:00, ?it/s]"
     ]
    },
    {
     "name": "stdout",
     "output_type": "stream",
     "text": [
      "[WARNING] From D:\\Apps\\anaconda\\envs\\proplace\\lib\\site-packages\\alibi\\explainers\\cfproto.py:124: The name tf.keras.backend.get_session is deprecated. Please use tf.compat.v1.keras.backend.get_session instead.\n",
      " [module_wrapper.py _tfmw_add_deprecation_warning]\n",
      "[WARNING] From D:\\Apps\\anaconda\\envs\\proplace\\lib\\site-packages\\tensorflow_core\\python\\ops\\array_ops.py:1475: where (from tensorflow.python.ops.array_ops) is deprecated and will be removed in a future version.\n",
      "Instructions for updating:\n",
      "Use tf.where in 2.0, which has the same broadcast rule as np.where [deprecation.py new_func]\n"
     ]
    },
    {
     "name": "stderr",
     "output_type": "stream",
     "text": [
      "50it [25:20, 30.42s/it]\n"
     ]
    }
   ],
   "source": [
    "proto_ces_plot = proto_r(test_set, d, model, plain=True)\n",
    "proto_delta_validity = delta_robustness_test_for_plots(d, model, proto_ces_plot, deltas_plot)"
   ],
   "metadata": {
    "collapsed": false
   }
  },
  {
   "cell_type": "code",
   "execution_count": 15,
   "outputs": [
    {
     "name": "stderr",
     "output_type": "stream",
     "text": [
      "50it [06:38,  7.97s/it]\n"
     ]
    }
   ],
   "source": [
    "gcer_ces_plot = gce_r(test_set, d, model, delta=inc_delta)\n",
    "gcer_delta_validity = delta_robustness_test_for_plots(d, model, gcer_ces_plot, deltas_plot)"
   ],
   "metadata": {
    "collapsed": false
   }
  },
  {
   "cell_type": "code",
   "execution_count": 16,
   "outputs": [
    {
     "name": "stderr",
     "output_type": "stream",
     "text": [
      "50it [05:35,  6.71s/it]\n"
     ]
    }
   ],
   "source": [
    "mcer_ces_plot = mce_r(test_set, d, model, delta=inc_delta)\n",
    "mcer_delta_validity = delta_robustness_test_for_plots(d, model, mcer_ces_plot, deltas_plot)"
   ],
   "metadata": {
    "collapsed": false
   }
  },
  {
   "cell_type": "code",
   "execution_count": 17,
   "outputs": [
    {
     "name": "stderr",
     "output_type": "stream",
     "text": [
      "50it [1:27:40, 105.20s/it]\n"
     ]
    }
   ],
   "source": [
    "protor_ces_plot = proto_r(test_set, d, model, delta=inc_delta, plain=False, plain_proto_ces=proto_ces_plot)\n",
    "protor_delta_validity = delta_robustness_test_for_plots(d, model, protor_ces_plot, deltas_plot)"
   ],
   "metadata": {
    "collapsed": false
   }
  },
  {
   "cell_type": "code",
   "execution_count": 18,
   "outputs": [
    {
     "name": "stderr",
     "output_type": "stream",
     "text": [
      "9091it [07:46, 19.50it/s]\n"
     ]
    }
   ],
   "source": [
    "rnce_ces_plot = rnce(test_set, d, model, delta=inc_delta)\n",
    "rnce_delta_validity = delta_robustness_test_for_plots(d, model, rnce_ces_plot, deltas_plot)"
   ],
   "metadata": {
    "collapsed": false
   }
  },
  {
   "cell_type": "code",
   "execution_count": 19,
   "outputs": [
    {
     "data": {
      "text/plain": "<Figure size 640x480 with 1 Axes>",
      "image/png": "[encoded data removed]"
     },
     "metadata": {},
     "output_type": "display_data"
    }
   ],
   "source": [
    "plot_delta_validity(deltas_plot, val_delta, gce_delta_validity, mce_delta_validity, proto_delta_validity, roar_delta_validity, gcer_delta_validity, mcer_delta_validity, protor_delta_validity, rnce_delta_validity, True, data_name)"
   ],
   "metadata": {
    "collapsed": false
   }
  },
  {
   "cell_type": "code",
   "execution_count": 19,
   "outputs": [],
   "source": [],
   "metadata": {
    "collapsed": false
   }
  },
  {
   "cell_type": "markdown",
   "source": [
    "## Experiments 3\n",
    "\n",
    "Benchmarking CEs\n",
    "\n",
    "\n",
    "Performance drops after consecutive runs, save and load results after restartting"
   ],
   "metadata": {
    "collapsed": false
   }
  },
  {
   "cell_type": "code",
   "execution_count": 20,
   "outputs": [
    {
     "name": "stderr",
     "output_type": "stream",
     "text": [
      "100%|██████████| 5/5 [00:31<00:00,  6.37s/it]\n",
      "100%|██████████| 5/5 [00:15<00:00,  3.16s/it]\n"
     ]
    }
   ],
   "source": [
    "from intabs.evaluation import *\n",
    "from intabs.methods import run_exps\n",
    "import logging\n",
    "logger = logging.getLogger()\n",
    "logger.setLevel(logging.CRITICAL)\n",
    "rt_models_eval = get_retrained_models_all(d, model, num_h_neurons=num_h_neurons, epochs=epochs)"
   ],
   "metadata": {
    "collapsed": false
   }
  },
  {
   "cell_type": "code",
   "execution_count": 21,
   "outputs": [
    {
     "name": "stdout",
     "output_type": "stream",
     "text": [
      "===== running experiments 1/5 =====\n",
      "===== running non-robust baselines 1-4/17 =====\n"
     ]
    },
    {
     "name": "stderr",
     "output_type": "stream",
     "text": [
      "20it [14:18, 42.92s/it]\n"
     ]
    },
    {
     "name": "stdout",
     "output_type": "stream",
     "text": [
      "===== running robust baselines 5-7/17 =====\n"
     ]
    },
    {
     "name": "stderr",
     "output_type": "stream",
     "text": [
      "20it [02:26,  7.32s/it]\n",
      "20it [00:01, 19.92it/s]\n"
     ]
    },
    {
     "name": "stdout",
     "output_type": "stream",
     "text": [
      "===== running our methods 8-12/17, incremental delta =====\n"
     ]
    },
    {
     "name": "stderr",
     "output_type": "stream",
     "text": [
      "20it [02:38,  7.91s/it]\n",
      "20it [07:48, 23.40s/it]\n",
      "20it [51:37, 154.86s/it]\n",
      "9091it [09:12, 16.47it/s]\n",
      "20it [00:18,  1.07it/s]\n"
     ]
    },
    {
     "name": "stdout",
     "output_type": "stream",
     "text": [
      "===== running our methods 13-17/17, validation delta =====\n"
     ]
    },
    {
     "name": "stderr",
     "output_type": "stream",
     "text": [
      "20it [02:24,  7.25s/it]\n",
      "20it [03:37, 10.89s/it]\n",
      "20it [1:00:00, 180.04s/it]\n",
      "9091it [08:21, 18.12it/s]\n",
      "20it [00:24,  1.24s/it]\n"
     ]
    }
   ],
   "source": [
    "from intabs.methods import run_exps_all_once\n",
    "res_1 = run_exps_all_once(d, model, rt_models_eval, rt_models, inc_delta, val_delta, random_seed=1050,\n",
    "                               run_id=1)\n"
   ],
   "metadata": {
    "collapsed": false
   }
  },
  {
   "cell_type": "code",
   "execution_count": 22,
   "outputs": [
    {
     "name": "stdout",
     "output_type": "stream",
     "text": [
      "===== running experiments 2/5 =====\n",
      "===== running non-robust baselines 1-4/17 =====\n"
     ]
    },
    {
     "name": "stderr",
     "output_type": "stream",
     "text": [
      "20it [27:39, 82.98s/it]\n"
     ]
    },
    {
     "name": "stdout",
     "output_type": "stream",
     "text": [
      "===== running robust baselines 5-7/17 =====\n"
     ]
    },
    {
     "name": "stderr",
     "output_type": "stream",
     "text": [
      "20it [02:22,  7.13s/it]\n",
      "20it [00:01, 16.98it/s]\n"
     ]
    },
    {
     "name": "stdout",
     "output_type": "stream",
     "text": [
      "===== running our methods 8-12/17, incremental delta =====\n"
     ]
    },
    {
     "name": "stderr",
     "output_type": "stream",
     "text": [
      "20it [02:46,  8.32s/it]\n",
      "20it [12:19, 36.97s/it]\n",
      "20it [1:41:13, 303.69s/it]\n",
      "9091it [14:04, 10.77it/s]\n",
      "20it [00:22,  1.12s/it]\n"
     ]
    },
    {
     "name": "stdout",
     "output_type": "stream",
     "text": [
      "===== running our methods 13-17/17, validation delta =====\n"
     ]
    },
    {
     "name": "stderr",
     "output_type": "stream",
     "text": [
      "20it [02:24,  7.21s/it]\n",
      "20it [06:19, 18.96s/it]\n",
      "20it [2:06:09, 378.49s/it]\n",
      "9091it [11:31, 13.15it/s]\n",
      "20it [00:32,  1.64s/it]\n"
     ]
    }
   ],
   "source": [
    "res_2 = run_exps_all_once(d, model, rt_models_eval, rt_models, inc_delta, val_delta, random_seed=7050,\n",
    "                               run_id=2)"
   ],
   "metadata": {
    "collapsed": false
   }
  },
  {
   "cell_type": "code",
   "execution_count": 24,
   "outputs": [
    {
     "name": "stdout",
     "output_type": "stream",
     "text": [
      "===== running experiments 3/5 =====\n",
      "===== running non-robust baselines 1-4/17 =====\n"
     ]
    },
    {
     "name": "stderr",
     "output_type": "stream",
     "text": [
      "20it [08:47, 26.35s/it]\n"
     ]
    },
    {
     "name": "stdout",
     "output_type": "stream",
     "text": [
      "===== running robust baselines 5-7/17 =====\n"
     ]
    },
    {
     "name": "stderr",
     "output_type": "stream",
     "text": [
      "20it [02:26,  7.34s/it]\n",
      "20it [00:00, 42.04it/s]\n"
     ]
    },
    {
     "name": "stdout",
     "output_type": "stream",
     "text": [
      "===== running our methods 8-12/17, incremental delta =====\n"
     ]
    },
    {
     "name": "stderr",
     "output_type": "stream",
     "text": [
      "20it [02:46,  8.33s/it]\n",
      "20it [01:55,  5.75s/it]\n",
      "20it [30:40, 92.02s/it] \n",
      "9091it [05:20, 28.32it/s]\n",
      "20it [00:12,  1.59it/s]\n"
     ]
    },
    {
     "name": "stdout",
     "output_type": "stream",
     "text": [
      "===== running our methods 13-17/17, validation delta =====\n"
     ]
    },
    {
     "name": "stderr",
     "output_type": "stream",
     "text": [
      "20it [02:18,  6.94s/it]\n",
      "20it [01:07,  3.35s/it]\n",
      "20it [32:33, 97.67s/it] \n",
      "9091it [05:39, 26.78it/s]\n",
      "20it [00:16,  1.18it/s]\n"
     ]
    }
   ],
   "source": [
    "res_3 = run_exps_all_once(d, model, rt_models_eval, rt_models, inc_delta, val_delta, random_seed=3050,\n",
    "                               run_id=3)"
   ],
   "metadata": {
    "collapsed": false
   }
  },
  {
   "cell_type": "code",
   "execution_count": 11,
   "outputs": [
    {
     "name": "stdout",
     "output_type": "stream",
     "text": [
      "===== running experiments 4/5 =====\n",
      "===== running non-robust baselines 1-4/17 =====\n"
     ]
    },
    {
     "name": "stderr",
     "output_type": "stream",
     "text": [
      "0it [00:00, ?it/s]"
     ]
    },
    {
     "name": "stdout",
     "output_type": "stream",
     "text": [
      "[WARNING] From D:\\Apps\\anaconda\\envs\\proplace\\lib\\site-packages\\alibi\\explainers\\cfproto.py:124: The name tf.keras.backend.get_session is deprecated. Please use tf.compat.v1.keras.backend.get_session instead.\n",
      " [module_wrapper.py _tfmw_add_deprecation_warning]\n",
      "[WARNING] From D:\\Apps\\anaconda\\envs\\proplace\\lib\\site-packages\\tensorflow_core\\python\\ops\\array_ops.py:1475: where (from tensorflow.python.ops.array_ops) is deprecated and will be removed in a future version.\n",
      "Instructions for updating:\n",
      "Use tf.where in 2.0, which has the same broadcast rule as np.where [deprecation.py new_func]\n"
     ]
    },
    {
     "name": "stderr",
     "output_type": "stream",
     "text": [
      "20it [10:27, 31.40s/it]\n"
     ]
    },
    {
     "name": "stdout",
     "output_type": "stream",
     "text": [
      "===== running robust baselines 5-7/17 =====\n"
     ]
    },
    {
     "name": "stderr",
     "output_type": "stream",
     "text": [
      "20it [02:59,  8.97s/it]\n",
      "20it [00:00, 84.68it/s]\n",
      "20it [00:00, 49.66it/s]\n"
     ]
    },
    {
     "name": "stdout",
     "output_type": "stream",
     "text": [
      "===== running our methods 8-12/17, incremental delta =====\n"
     ]
    },
    {
     "name": "stderr",
     "output_type": "stream",
     "text": [
      "20it [02:51,  8.56s/it]\n",
      "20it [01:35,  4.79s/it]\n",
      "20it [33:43, 101.17s/it]\n",
      "10782it [06:38, 27.08it/s]\n",
      "20it [00:13,  1.52it/s]\n"
     ]
    },
    {
     "name": "stdout",
     "output_type": "stream",
     "text": [
      "===== running our methods 13-17/17, validation delta =====\n"
     ]
    },
    {
     "name": "stderr",
     "output_type": "stream",
     "text": [
      "20it [01:47,  5.36s/it]\n",
      "20it [00:46,  2.31s/it]\n",
      "20it [29:36, 88.81s/it] \n",
      "10782it [06:04, 29.56it/s]\n",
      "20it [00:13,  1.47it/s]\n"
     ]
    }
   ],
   "source": [
    "res_4 = run_exps_all_once(d, model, rt_models_eval, rt_models, inc_delta, val_delta, random_seed=3990,\n",
    "                               run_id=4)"
   ],
   "metadata": {
    "collapsed": false
   }
  },
  {
   "cell_type": "code",
   "execution_count": 27,
   "outputs": [
    {
     "name": "stdout",
     "output_type": "stream",
     "text": [
      "===== running experiments 5/5 =====\n",
      "===== running non-robust baselines 1-4/17 =====\n",
      "Set parameter Username\n",
      "Academic license - for non-commercial use only - expires 2025-02-14\n"
     ]
    },
    {
     "name": "stderr",
     "output_type": "stream",
     "text": [
      "0it [00:00, ?it/s]"
     ]
    },
    {
     "name": "stdout",
     "output_type": "stream",
     "text": [
      "[WARNING] From D:\\Apps\\anaconda\\envs\\proplace\\lib\\site-packages\\alibi\\explainers\\cfproto.py:124: The name tf.keras.backend.get_session is deprecated. Please use tf.compat.v1.keras.backend.get_session instead.\n",
      " [module_wrapper.py _tfmw_add_deprecation_warning]\n",
      "[WARNING] From D:\\Apps\\anaconda\\envs\\proplace\\lib\\site-packages\\tensorflow_core\\python\\ops\\array_ops.py:1475: where (from tensorflow.python.ops.array_ops) is deprecated and will be removed in a future version.\n",
      "Instructions for updating:\n",
      "Use tf.where in 2.0, which has the same broadcast rule as np.where [deprecation.py new_func]\n"
     ]
    },
    {
     "name": "stderr",
     "output_type": "stream",
     "text": [
      "20it [10:04, 30.21s/it]\n"
     ]
    },
    {
     "name": "stdout",
     "output_type": "stream",
     "text": [
      "===== running robust baselines 5-7/17 =====\n"
     ]
    },
    {
     "name": "stderr",
     "output_type": "stream",
     "text": [
      "20it [02:56,  8.83s/it]\n",
      "20it [00:00, 95.49it/s]\n"
     ]
    },
    {
     "name": "stdout",
     "output_type": "stream",
     "text": [
      "===== running our methods 8-12/17, incremental delta =====\n"
     ]
    },
    {
     "name": "stderr",
     "output_type": "stream",
     "text": [
      "20it [02:42,  8.14s/it]\n",
      "20it [02:04,  6.23s/it]\n",
      "20it [32:02, 96.14s/it]\n",
      "6501it [03:51, 28.10it/s]\n",
      "20it [00:16,  1.23it/s]\n"
     ]
    },
    {
     "name": "stdout",
     "output_type": "stream",
     "text": [
      "===== running our methods 13-17/17, validation delta =====\n"
     ]
    },
    {
     "name": "stderr",
     "output_type": "stream",
     "text": [
      "20it [02:12,  6.62s/it]\n",
      "20it [00:59,  3.00s/it]\n",
      "20it [26:42, 80.11s/it]\n",
      "6501it [03:28, 31.25it/s]\n",
      "20it [00:13,  1.51it/s]\n"
     ]
    }
   ],
   "source": [
    "res_5 = run_exps_all_once(d, model, rt_models_eval, rt_models, inc_delta, val_delta, random_seed=6666,\n",
    "                               run_id=5)"
   ],
   "metadata": {
    "collapsed": false
   }
  },
  {
   "cell_type": "code",
   "execution_count": 64,
   "outputs": [
    {
     "name": "stdout",
     "output_type": "stream",
     "text": [
      "average results\n",
      "+--------------+------------+--------+--------+-------+--------------+--------------+\n",
      "| name         |   coverage |   cost |    lof |   vm2 |   vdelta-val |   vdelta-inc |\n",
      "+==============+============+========+========+=======+==============+==============+\n",
      "| gce          |       1    |  0.016 |  1.286 | 0.51  |         0    |        0     |\n",
      "| mce          |       1    |  0.009 |  1.408 | 0.485 |         0    |        0     |\n",
      "| proto        |       1    |  0.011 |  1.436 | 0.611 |         0.01 |        0     |\n",
      "| nnce         |       1    |  0.032 |  1.335 | 0.761 |         0.02 |        0.02  |\n",
      "| roar         |       0.98 |  0.877 | 12.539 | 1     |         1    |        0.948 |\n",
      "| rbr          |       1    |  0.025 |  1.331 | 0.901 |         0    |        0     |\n",
      "| stable-ce    |       1    |  0.046 |  1.267 | 0.987 |         0.2  |        0.04  |\n",
      "| gce-r        |       1    |  0.051 |  1.645 | 1     |         1    |        0     |\n",
      "| mce-r        |       1    |  0.062 |  2.912 | 1     |         1    |        1     |\n",
      "| proto-r      |       1    |  0.072 |  2.36  | 1     |         1    |        0.09  |\n",
      "| rnce         |       1    |  0.122 |  2.776 | 1     |         1    |        1     |\n",
      "| rnce-opt     |       1    |  0.095 |  2.669 | 1     |         1    |        1     |\n",
      "| gce-r-val    |       1    |  0.048 |  1.465 | 1     |         1    |        0     |\n",
      "| mce-r-val    |       1    |  0.021 |  1.647 | 1     |         1    |        0     |\n",
      "| proto-r-val  |       1    |  0.042 |  1.681 | 1     |         0.69 |        0     |\n",
      "| rnce-val     |       1    |  0.057 |  1.316 | 1     |         1    |        0.04  |\n",
      "| rnce-opt-val |       1    |  0.049 |  1.283 | 1     |         1    |        0     |\n",
      "+--------------+------------+--------+--------+-------+--------------+--------------+\n",
      "std results\n",
      "+--------------+------------+---------+---------+---------+--------------+--------------+\n",
      "| name         |   coverage |    cost |     lof |     vm2 |   vdelta-val |   vdelta-inc |\n",
      "+==============+============+=========+=========+=========+==============+==============+\n",
      "| gce          |       0    | 0.00298 | 0.03626 | 0.2229  |      0       |      0       |\n",
      "| mce          |       0    | 0.00105 | 0.06363 | 0.20143 |      0       |      0       |\n",
      "| proto        |       0    | 0.00243 | 0.08904 | 0.17859 |      0.02    |      0       |\n",
      "| nnce         |       0    | 0.00357 | 0.11413 | 0.13907 |      0.02449 |      0.02449 |\n",
      "| roar         |       0.04 | 0.20767 | 4.18744 | 0       |      0       |      0.06513 |\n",
      "| rbr          |       0    | 0.00214 | 0.05066 | 0.09162 |      0       |      0       |\n",
      "| stable-ce    |       0    | 0.00764 | 0.0876  | 0.01436 |      0.07071 |      0.02    |\n",
      "| gce-r        |       0    | 0.00813 | 0.12968 | 0       |      0       |      0       |\n",
      "| mce-r        |       0    | 0.00536 | 0.05389 | 0       |      0       |      0       |\n",
      "| proto-r      |       0    | 0.053   | 0.35637 | 0       |      0       |      0.09165 |\n",
      "| rnce         |       0    | 0.00633 | 0.16816 | 0       |      0       |      0       |\n",
      "| rnce-opt     |       0    | 0.01122 | 0.08485 | 0       |      0       |      0       |\n",
      "| gce-r-val    |       0    | 0.00743 | 0.07992 | 0       |      0       |      0       |\n",
      "| mce-r-val    |       0    | 0.00083 | 0.09861 | 0       |      0       |      0       |\n",
      "| proto-r-val  |       0    | 0.00957 | 0.11875 | 0       |      0.20347 |      0       |\n",
      "| rnce-val     |       0    | 0.00488 | 0.02075 | 0       |      0       |      0.02    |\n",
      "| rnce-opt-val |       0    | 0.00321 | 0.04476 | 0       |      0       |      0       |\n",
      "+--------------+------------+---------+---------+---------+--------------+--------------+\n"
     ]
    }
   ],
   "source": [
    "mean_res, std_res = run_exps(res_1, res_2, res_3, res_4, res_5)"
   ],
   "metadata": {
    "collapsed": false
   }
  },
  {
   "cell_type": "code",
   "execution_count": null,
   "outputs": [],
   "source": [],
   "metadata": {
    "collapsed": false
   }
  }
 ],
 "metadata": {
  "kernelspec": {
   "display_name": "Python 3",
   "language": "python",
   "name": "python3"
  },
  "language_info": {
   "codemirror_mode": {
    "name": "ipython",
    "version": 2
   },
   "file_extension": ".py",
   "mimetype": "text/x-python",
   "name": "python",
   "nbconvert_exporter": "python",
   "pygments_lexer": "ipython2",
   "version": "2.7.6"
  }
 },
 "nbformat": 4,
 "nbformat_minor": 0
}
