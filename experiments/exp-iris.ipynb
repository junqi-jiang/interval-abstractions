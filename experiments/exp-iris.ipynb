{
 "cells": [
  {
   "cell_type": "code",
   "execution_count": 1,
   "outputs": [],
   "source": [
    "import time\n",
    "import warnings\n",
    "import numpy as np\n",
    "warnings.filterwarnings('ignore')\n",
    "import logging\n",
    "logger = logging.getLogger()\n",
    "logger.setLevel(logging.CRITICAL)\n",
    "%load_ext autoreload\n",
    "%autoreload 2"
   ],
   "metadata": {
    "collapsed": false
   }
  },
  {
   "cell_type": "code",
   "execution_count": 2,
   "outputs": [
    {
     "name": "stderr",
     "output_type": "stream",
     "text": [
      "Using TensorFlow backend.\n"
     ]
    },
    {
     "name": "stdout",
     "output_type": "stream",
     "text": [
      "[INFO] Using Python-MIP package version 1.12.0 [model.py <module>]\n",
      "[WARNING] \n",
      "The TensorFlow contrib module will not be included in TensorFlow 2.0.\n",
      "For more information, please see:\n",
      "  * https://github.com/tensorflow/community/blob/master/rfcs/20180907-contrib-sunset.md\n",
      "  * https://github.com/tensorflow/addons\n",
      "  * https://github.com/tensorflow/io (for I/O related ops)\n",
      "If you depend on functionality not listed there, please file an issue.\n",
      " [lazy_loader.py _load]\n"
     ]
    }
   ],
   "source": [
    "from intabs_multi.dataset import InnDataSet\n",
    "d = InnDataSet(\"iris\")\n",
    "data_name = \"iris\""
   ],
   "metadata": {
    "collapsed": false
   }
  },
  {
   "cell_type": "code",
   "execution_count": 3,
   "outputs": [
    {
     "name": "stdout",
     "output_type": "stream",
     "text": [
      "Using cuda device\n",
      "accuracy: 0.9314285714285713+-0.045235588903001604\n"
     ]
    }
   ],
   "source": [
    "from intabs_multi.classifier_multi import *\n",
    "num_h_neurons = 5\n",
    "epochs = 50\n",
    "cross_validation(d, num_h_neurons, epochs, data_name)"
   ],
   "metadata": {
    "collapsed": false
   }
  },
  {
   "cell_type": "code",
   "execution_count": 4,
   "outputs": [
    {
     "name": "stdout",
     "output_type": "stream",
     "text": [
      "Evaluations on training data\n",
      "\n",
      "               precision    recall  f1-score   support\n",
      "\n",
      "         (0)      1.000     1.000     1.000        17\n",
      "         (1)      1.000     0.900     0.947        20\n",
      "         (2)      0.917     1.000     0.957        22\n",
      "\n",
      "    accuracy                          0.966        59\n",
      "   macro avg      0.972     0.967     0.968        59\n",
      "weighted avg      0.969     0.966     0.966        59\n",
      "\n",
      "Evaluations on testing data\n",
      "\n",
      "               precision    recall  f1-score   support\n",
      "\n",
      "         (0)      1.000     1.000     1.000         4\n",
      "         (1)      1.000     1.000     1.000         5\n",
      "         (2)      1.000     1.000     1.000         6\n",
      "\n",
      "    accuracy                          1.000        15\n",
      "   macro avg      1.000     1.000     1.000        15\n",
      "weighted avg      1.000     1.000     1.000        15\n",
      "\n"
     ]
    }
   ],
   "source": [
    "torch_model = train_clf(d.X1_train, d.y1_train, d.X1_test, d.y1_test, num_h_neurons, epochs, data_name)\n",
    "model = InnModel(d, torch_model, num_h_neurons)"
   ],
   "metadata": {
    "collapsed": false
   }
  },
  {
   "cell_type": "code",
   "execution_count": 5,
   "outputs": [
    {
     "name": "stderr",
     "output_type": "stream",
     "text": [
      "100%|██████████| 5/5 [00:00<00:00, 13.00it/s]\n",
      "100%|██████████| 5/5 [00:00<00:00, 24.50it/s]\n"
     ]
    }
   ],
   "source": [
    "rt_models, val_set, val_y_set = get_retrained_models_and_validation_set(d, model)"
   ],
   "metadata": {
    "collapsed": false
   }
  },
  {
   "cell_type": "code",
   "execution_count": 16,
   "outputs": [
    {
     "name": "stderr",
     "output_type": "stream",
     "text": [
      "53it [00:00, 215.66it/s]"
     ]
    },
    {
     "name": "stdout",
     "output_type": "stream",
     "text": [
      "True\n"
     ]
    },
    {
     "name": "stderr",
     "output_type": "stream",
     "text": [
      "\n"
     ]
    }
   ],
   "source": [
    "from intabs_multi.methods_multi import rnce\n",
    "from intabs_multi.util import eval_empirical_robustness, get_test_inputs\n",
    "val_delta = 0.015\n",
    "ces = rnce(val_set, d, model, delta=val_delta, y_target=2)\n",
    "print(eval_empirical_robustness(rt_models, ces, y_target=2))"
   ],
   "metadata": {
    "collapsed": false
   }
  },
  {
   "cell_type": "code",
   "execution_count": 17,
   "outputs": [],
   "source": [
    "# val delta\n",
    "test_set, test_set_df, test_set_full_df = get_test_inputs(d, model, num_inputs=20)"
   ],
   "metadata": {
    "collapsed": false
   }
  },
  {
   "cell_type": "code",
   "execution_count": 18,
   "outputs": [
    {
     "name": "stderr",
     "output_type": "stream",
     "text": [
      "100%|██████████| 5/5 [00:00<00:00,  5.86it/s]\n",
      "100%|██████████| 5/5 [00:00<00:00, 11.71it/s]\n"
     ]
    }
   ],
   "source": [
    "from intabs_multi.classifier_multi import get_retrained_models_all\n",
    "rt_models_eval = get_retrained_models_all(d, model, num_h_neurons, epochs)"
   ],
   "metadata": {
    "collapsed": false
   }
  },
  {
   "cell_type": "code",
   "execution_count": 19,
   "outputs": [
    {
     "name": "stderr",
     "output_type": "stream",
     "text": [
      "53it [00:00, 221.15it/s]\n",
      "20it [00:01, 10.58it/s]\n",
      "53it [00:00, 211.10it/s]\n",
      "20it [00:01, 10.12it/s]\n",
      "53it [00:00, 230.00it/s]\n",
      "20it [00:01, 10.66it/s]\n",
      "53it [00:00, 230.98it/s]\n",
      "20it [00:01, 11.04it/s]\n",
      "53it [00:00, 231.50it/s]\n",
      "20it [00:01, 10.33it/s]"
     ]
    },
    {
     "name": "stdout",
     "output_type": "stream",
     "text": [
      "average results\n",
      "+----------+------------+--------+-------+-------+--------------+\n",
      "| name     |   coverage |   cost |   lof |   vm2 |   vdelta-val |\n",
      "+==========+============+========+=======+=======+==============+\n",
      "| nnce     |          1 |  0.393 | 1.475 | 0.747 |            0 |\n",
      "| rnce     |          1 |  0.438 | 1.503 | 1     |            1 |\n",
      "| rnce-opt |          1 |  0.438 | 1.503 | 1     |            1 |\n",
      "+----------+------------+--------+-------+-------+--------------+\n",
      "std results\n",
      "+----------+------------+--------+-------+-------+--------------+\n",
      "| name     |   coverage |   cost |   lof |   vm2 |   vdelta-val |\n",
      "+==========+============+========+=======+=======+==============+\n",
      "| nnce     |          0 |  0.002 | 0.026 | 0.004 |            0 |\n",
      "| rnce     |          0 |  0.003 | 0.002 | 0     |            0 |\n",
      "| rnce-opt |          0 |  0.003 | 0.002 | 0     |            0 |\n",
      "+----------+------------+--------+-------+-------+--------------+\n"
     ]
    },
    {
     "name": "stderr",
     "output_type": "stream",
     "text": [
      "\n"
     ]
    }
   ],
   "source": [
    "from intabs_multi.methods_multi import run_all\n",
    "run_all(d, model, rt_models_eval, val_delta)"
   ],
   "metadata": {
    "collapsed": false
   }
  },
  {
   "cell_type": "code",
   "execution_count": null,
   "outputs": [],
   "source": [],
   "metadata": {
    "collapsed": false
   }
  },
  {
   "cell_type": "code",
   "execution_count": null,
   "outputs": [],
   "source": [],
   "metadata": {
    "collapsed": false
   }
  }
 ],
 "metadata": {
  "kernelspec": {
   "display_name": "Python 3",
   "language": "python",
   "name": "python3"
  },
  "language_info": {
   "codemirror_mode": {
    "name": "ipython",
    "version": 2
   },
   "file_extension": ".py",
   "mimetype": "text/x-python",
   "name": "python",
   "nbconvert_exporter": "python",
   "pygments_lexer": "ipython2",
   "version": "2.7.6"
  }
 },
 "nbformat": 4,
 "nbformat_minor": 0
}
