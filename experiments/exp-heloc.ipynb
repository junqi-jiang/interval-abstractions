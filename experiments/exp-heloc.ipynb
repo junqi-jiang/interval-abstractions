{
 "cells": [
  {
   "cell_type": "markdown",
   "source": [
    "## Load dataset and train classifier"
   ],
   "metadata": {
    "collapsed": false
   }
  },
  {
   "cell_type": "code",
   "execution_count": 1,
   "outputs": [],
   "source": [
    "import time\n",
    "import warnings\n",
    "import numpy as np\n",
    "warnings.filterwarnings('ignore')\n",
    "import logging\n",
    "logger = logging.getLogger()\n",
    "logger.setLevel(logging.CRITICAL)\n",
    "%load_ext autoreload\n",
    "%autoreload 2"
   ],
   "metadata": {
    "collapsed": false
   }
  },
  {
   "cell_type": "code",
   "execution_count": 2,
   "outputs": [
    {
     "name": "stderr",
     "output_type": "stream",
     "text": [
      "Using TensorFlow backend.\n"
     ]
    },
    {
     "name": "stdout",
     "output_type": "stream",
     "text": [
      "[INFO] Using Python-MIP package version 1.12.0 [model.py <module>]\n",
      "[WARNING] \n",
      "The TensorFlow contrib module will not be included in TensorFlow 2.0.\n",
      "For more information, please see:\n",
      "  * https://github.com/tensorflow/community/blob/master/rfcs/20180907-contrib-sunset.md\n",
      "  * https://github.com/tensorflow/addons\n",
      "  * https://github.com/tensorflow/io (for I/O related ops)\n",
      "If you depend on functionality not listed there, please file an issue.\n",
      " [lazy_loader.py _load]\n"
     ]
    }
   ],
   "source": [
    "from intabs.dataset import InnDataSet\n",
    "data_name = \"heloc\"\n",
    "dataset = InnDataSet(data_name)"
   ],
   "metadata": {
    "collapsed": false
   }
  },
  {
   "cell_type": "code",
   "execution_count": 3,
   "outputs": [
    {
     "name": "stdout",
     "output_type": "stream",
     "text": [
      "Using cuda device\n",
      "accuracy: 0.7284189391090258+-0.01524783763489577\n"
     ]
    }
   ],
   "source": [
    "from intabs.classifier_binary import cross_validation, train_clf, InnModel\n",
    "d = dataset\n",
    "num_h_neurons = 15\n",
    "epochs = 10\n",
    "cross_validation(d, num_h_neurons, epochs, data_name)"
   ],
   "metadata": {
    "collapsed": false
   }
  },
  {
   "cell_type": "code",
   "execution_count": 4,
   "outputs": [
    {
     "name": "stdout",
     "output_type": "stream",
     "text": [
      "Evaluations on training data\n",
      "\n",
      "                  precision    recall  f1-score   support\n",
      "\n",
      " bad credit (0)      0.757     0.696     0.725      2045\n",
      "good credit (1)      0.699     0.760     0.728      1902\n",
      "\n",
      "       accuracy                          0.727      3947\n",
      "      macro avg      0.728     0.728     0.727      3947\n",
      "   weighted avg      0.729     0.727     0.727      3947\n",
      "\n",
      "Evaluations on testing data\n",
      "\n",
      "                  precision    recall  f1-score   support\n",
      "\n",
      " bad credit (0)      0.774     0.691     0.730       511\n",
      "good credit (1)      0.702     0.784     0.741       476\n",
      "\n",
      "       accuracy                          0.736       987\n",
      "      macro avg      0.738     0.737     0.735       987\n",
      "   weighted avg      0.740     0.736     0.735       987\n",
      "\n"
     ]
    }
   ],
   "source": [
    "torch_model = train_clf(d.X1_train, d.y1_train, d.X1_test, d.y1_test, num_h_neurons, epochs, data_name, save_clf=False, load_clf=False)\n",
    "model = InnModel(d, torch_model, num_h_neurons)"
   ],
   "metadata": {
    "collapsed": false
   }
  },
  {
   "cell_type": "markdown",
   "source": [
    "## Experiments 1\n",
    "\n",
    "First, get $\\delta$ value using incremental retraining, and get $\\delta$ value using validation set"
   ],
   "metadata": {
    "collapsed": false
   }
  },
  {
   "cell_type": "code",
   "execution_count": 5,
   "outputs": [
    {
     "name": "stderr",
     "output_type": "stream",
     "text": [
      "100%|██████████| 51/51 [00:18<00:00,  2.78it/s]\n"
     ]
    }
   ],
   "source": [
    "from intabs.evaluation import get_delta_incremental_training, get_retrained_models_and_validation_set, test_delta_with_val_set\n",
    "percentages, delta_magnitudes = get_delta_incremental_training(d, model, batch_size=100)\n",
    "inc_delta = delta_magnitudes[5].round(5) # select the delta value corresponding to retraining on 10% size of original data"
   ],
   "metadata": {
    "collapsed": false
   }
  },
  {
   "cell_type": "code",
   "execution_count": 6,
   "outputs": [
    {
     "name": "stdout",
     "output_type": "stream",
     "text": [
      "0.03982\n"
     ]
    }
   ],
   "source": [
    "print(inc_delta)"
   ],
   "metadata": {
    "collapsed": false
   }
  },
  {
   "cell_type": "code",
   "execution_count": 7,
   "outputs": [
    {
     "name": "stderr",
     "output_type": "stream",
     "text": [
      "100%|██████████| 5/5 [00:10<00:00,  2.14s/it]\n",
      "100%|██████████| 5/5 [00:04<00:00,  1.09it/s]\n"
     ]
    }
   ],
   "source": [
    "model.raw_model.to(\"cpu\")\n",
    "rt_models, val_set, val_y_set = get_retrained_models_and_validation_set(d, model)"
   ],
   "metadata": {
    "collapsed": false
   }
  },
  {
   "cell_type": "code",
   "execution_count": 8,
   "outputs": [
    {
     "name": "stderr",
     "output_type": "stream",
     "text": [
      "0it [00:00, ?it/s]"
     ]
    },
    {
     "name": "stdout",
     "output_type": "stream",
     "text": [
      "Set parameter Username\n",
      "[INFO] Set parameter Username [intabs.py __init__]\n",
      "Academic license - for non-commercial use only - expires 2025-02-14\n",
      "[INFO] Academic license - for non-commercial use only - expires 2025-02-14 [intabs.py __init__]\n"
     ]
    },
    {
     "name": "stderr",
     "output_type": "stream",
     "text": [
      "2599it [01:12, 35.65it/s]"
     ]
    },
    {
     "name": "stdout",
     "output_type": "stream",
     "text": [
      "True\n"
     ]
    },
    {
     "name": "stderr",
     "output_type": "stream",
     "text": [
      "\n"
     ]
    }
   ],
   "source": [
    "val_delta = 0.02\n",
    "print(test_delta_with_val_set(d, model, val_delta, val_set, rt_models))"
   ],
   "metadata": {
    "collapsed": false
   }
  },
  {
   "cell_type": "code",
   "execution_count": 9,
   "outputs": [
    {
     "data": {
      "text/plain": "<Figure size 640x480 with 1 Axes>",
      "image/png": "[encoded data removed]"
     },
     "metadata": {},
     "output_type": "display_data"
    }
   ],
   "source": [
    "# plot\n",
    "from intabs.evaluation import plot_deltas\n",
    "plot_deltas(val_delta, inc_delta, percentages, delta_magnitudes, data_name)"
   ],
   "metadata": {
    "collapsed": false
   }
  },
  {
   "cell_type": "code",
   "execution_count": 9,
   "outputs": [],
   "source": [],
   "metadata": {
    "collapsed": false
   }
  },
  {
   "cell_type": "markdown",
   "source": [
    "## Experiments 2\n",
    "\n",
    "Evaluating $\\Delta$-robustness"
   ],
   "metadata": {
    "collapsed": false
   }
  },
  {
   "cell_type": "code",
   "execution_count": 10,
   "outputs": [],
   "source": [
    "import logging\n",
    "logger = logging.getLogger()\n",
    "logger.setLevel(logging.CRITICAL)\n",
    "from intabs.evaluation import *\n",
    "test_set, test_set_df, test_set_full_df = get_test_inputs(d, model, 50)"
   ],
   "metadata": {
    "collapsed": false
   }
  },
  {
   "cell_type": "code",
   "execution_count": 11,
   "outputs": [],
   "source": [
    "from intabs.methods import roar, gce, mce, gce_r, mce_r, proto_r, rnce\n",
    "deltas_plot = get_deltas_plot(inc_delta, val_delta)"
   ],
   "metadata": {
    "collapsed": false
   }
  },
  {
   "cell_type": "code",
   "execution_count": 12,
   "outputs": [],
   "source": [
    "roar_ces_plot = roar(test_set_full_df, model, lr=0.02, lambda_=0.001, delta_max=inc_delta)\n",
    "roar_delta_validity = delta_robustness_test_for_plots(d, model, roar_ces_plot, deltas_plot)"
   ],
   "metadata": {
    "collapsed": false
   }
  },
  {
   "cell_type": "code",
   "execution_count": 13,
   "outputs": [],
   "source": [
    "gce_ces_plot = gce(test_set, model)\n",
    "gce_delta_validity = delta_robustness_test_for_plots(d, model, gce_ces_plot, deltas_plot)"
   ],
   "metadata": {
    "collapsed": false
   }
  },
  {
   "cell_type": "code",
   "execution_count": 14,
   "outputs": [],
   "source": [
    "mce_ces_plot = mce(test_set, d, model)\n",
    "mce_delta_validity = delta_robustness_test_for_plots(d, model, mce_ces_plot, deltas_plot)"
   ],
   "metadata": {
    "collapsed": false
   }
  },
  {
   "cell_type": "code",
   "execution_count": 15,
   "outputs": [
    {
     "name": "stderr",
     "output_type": "stream",
     "text": [
      "0it [00:00, ?it/s]"
     ]
    },
    {
     "name": "stdout",
     "output_type": "stream",
     "text": [
      "[WARNING] From D:\\Apps\\anaconda\\envs\\proplace\\lib\\site-packages\\alibi\\explainers\\cfproto.py:124: The name tf.keras.backend.get_session is deprecated. Please use tf.compat.v1.keras.backend.get_session instead.\n",
      " [module_wrapper.py _tfmw_add_deprecation_warning]\n"
     ]
    },
    {
     "name": "stderr",
     "output_type": "stream",
     "text": [
      "50it [23:54, 28.69s/it]\n"
     ]
    }
   ],
   "source": [
    "proto_ces_plot = proto_r(test_set, d, model, plain=True)\n",
    "proto_delta_validity = delta_robustness_test_for_plots(d, model, proto_ces_plot, deltas_plot)"
   ],
   "metadata": {
    "collapsed": false
   }
  },
  {
   "cell_type": "code",
   "execution_count": 16,
   "outputs": [
    {
     "name": "stderr",
     "output_type": "stream",
     "text": [
      "50it [05:11,  6.23s/it]\n"
     ]
    }
   ],
   "source": [
    "gcer_ces_plot = gce_r(test_set, d, model, delta=inc_delta)\n",
    "gcer_delta_validity = delta_robustness_test_for_plots(d, model, gcer_ces_plot, deltas_plot)"
   ],
   "metadata": {
    "collapsed": false
   }
  },
  {
   "cell_type": "code",
   "execution_count": 17,
   "outputs": [
    {
     "name": "stderr",
     "output_type": "stream",
     "text": [
      "50it [00:54,  1.10s/it]\n"
     ]
    }
   ],
   "source": [
    "mcer_ces_plot = mce_r(test_set, d, model, delta=inc_delta)\n",
    "mcer_delta_validity = delta_robustness_test_for_plots(d, model, mcer_ces_plot, deltas_plot)"
   ],
   "metadata": {
    "collapsed": false
   }
  },
  {
   "cell_type": "code",
   "execution_count": 18,
   "outputs": [
    {
     "name": "stderr",
     "output_type": "stream",
     "text": [
      "50it [47:55, 57.50s/it]\n"
     ]
    }
   ],
   "source": [
    "protor_ces_plot = proto_r(test_set, d, model, delta=inc_delta, plain=False, plain_proto_ces=proto_ces_plot)\n",
    "protor_delta_validity = delta_robustness_test_for_plots(d, model, protor_ces_plot, deltas_plot)"
   ],
   "metadata": {
    "collapsed": false
   }
  },
  {
   "cell_type": "code",
   "execution_count": 19,
   "outputs": [
    {
     "name": "stderr",
     "output_type": "stream",
     "text": [
      "5167it [02:18, 37.36it/s]\n"
     ]
    }
   ],
   "source": [
    "rnce_ces_plot = rnce(test_set, d, model, delta=inc_delta)\n",
    "rnce_delta_validity = delta_robustness_test_for_plots(d, model, rnce_ces_plot, deltas_plot)"
   ],
   "metadata": {
    "collapsed": false
   }
  },
  {
   "cell_type": "code",
   "execution_count": 41,
   "outputs": [
    {
     "data": {
      "text/plain": "<Figure size 640x480 with 1 Axes>",
      "image/png": "[encoded data removed]"
     },
     "metadata": {},
     "output_type": "display_data"
    }
   ],
   "source": [
    "plot_delta_validity(deltas_plot, val_delta, gce_delta_validity, mce_delta_validity, proto_delta_validity, roar_delta_validity, gcer_delta_validity, mcer_delta_validity, protor_delta_validity, rnce_delta_validity, True, data_name)"
   ],
   "metadata": {
    "collapsed": false
   }
  },
  {
   "cell_type": "code",
   "execution_count": 39,
   "outputs": [
    {
     "name": "stdout",
     "output_type": "stream",
     "text": [
      "0.0\n",
      "1.0\n",
      "2.0\n",
      "3.0\n",
      "4.0\n",
      "5.022601707684581\n",
      "6.0\n",
      "7.000000000000001\n",
      "8.0\n",
      "9.0\n",
      "10.0\n"
     ]
    }
   ],
   "source": [
    "# determine index\n",
    "for i in range(len(deltas_plot)):\n",
    "    print(deltas_plot[i] * 10 / inc_delta)"
   ],
   "metadata": {
    "collapsed": false
   }
  },
  {
   "cell_type": "markdown",
   "source": [
    "## Experiments 3\n",
    "\n",
    "Benchmarking CEs"
   ],
   "metadata": {
    "collapsed": false
   }
  },
  {
   "cell_type": "code",
   "execution_count": 11,
   "outputs": [
    {
     "name": "stderr",
     "output_type": "stream",
     "text": [
      "100%|██████████| 5/5 [00:04<00:00,  1.14it/s]\n",
      "100%|██████████| 5/5 [00:02<00:00,  2.21it/s]\n"
     ]
    }
   ],
   "source": [
    "from intabs.evaluation import *\n",
    "from intabs.methods import run_exps\n",
    "import logging\n",
    "logger = logging.getLogger()\n",
    "logger.setLevel(logging.CRITICAL)\n",
    "rt_models_eval = get_retrained_models_all(d, model, num_h_neurons=num_h_neurons, epochs=epochs)"
   ],
   "metadata": {
    "collapsed": false
   }
  },
  {
   "cell_type": "code",
   "execution_count": 12,
   "outputs": [
    {
     "name": "stdout",
     "output_type": "stream",
     "text": [
      "===== running experiments 1/5 =====\n",
      "===== running non-robust baselines 1-4/17 =====\n"
     ]
    },
    {
     "name": "stderr",
     "output_type": "stream",
     "text": [
      "0it [00:00, ?it/s]"
     ]
    },
    {
     "name": "stdout",
     "output_type": "stream",
     "text": [
      "[WARNING] From D:\\Apps\\anaconda\\envs\\proplace\\lib\\site-packages\\alibi\\explainers\\cfproto.py:124: The name tf.keras.backend.get_session is deprecated. Please use tf.compat.v1.keras.backend.get_session instead.\n",
      " [module_wrapper.py _tfmw_add_deprecation_warning]\n"
     ]
    },
    {
     "name": "stderr",
     "output_type": "stream",
     "text": [
      "20it [10:07, 30.40s/it]\n"
     ]
    },
    {
     "name": "stdout",
     "output_type": "stream",
     "text": [
      "===== running robust baselines 5-7/17 =====\n"
     ]
    },
    {
     "name": "stderr",
     "output_type": "stream",
     "text": [
      "20it [02:49,  8.50s/it]\n",
      "20it [00:00, 203.01it/s]\n",
      "20it [00:00, 106.22it/s]\n",
      "20it [00:00, 39.99it/s]\n",
      "20it [00:01, 11.87it/s]\n",
      "20it [00:03,  5.38it/s]\n"
     ]
    },
    {
     "name": "stdout",
     "output_type": "stream",
     "text": [
      "===== running our methods 8-12/17, incremental delta =====\n"
     ]
    },
    {
     "name": "stderr",
     "output_type": "stream",
     "text": [
      "20it [02:07,  6.35s/it]\n",
      "20it [00:15,  1.26it/s]\n",
      "20it [19:26, 58.31s/it]\n",
      "5167it [02:26, 35.35it/s]\n",
      "20it [00:00, 27.64it/s]\n"
     ]
    },
    {
     "name": "stdout",
     "output_type": "stream",
     "text": [
      "===== running our methods 13-17/17, validation delta =====\n"
     ]
    },
    {
     "name": "stderr",
     "output_type": "stream",
     "text": [
      "20it [01:17,  3.86s/it]\n",
      "20it [00:11,  1.68it/s]\n",
      "20it [10:56, 32.83s/it]\n",
      "5167it [02:22, 36.18it/s]\n",
      "20it [00:00, 28.42it/s]\n"
     ]
    }
   ],
   "source": [
    "from intabs.methods import run_exps_all_once\n",
    "res_1 = run_exps_all_once(d, model, rt_models_eval, rt_models, inc_delta, val_delta, random_seed=1050,\n",
    "                               run_id=1)\n"
   ],
   "metadata": {
    "collapsed": false
   }
  },
  {
   "cell_type": "code",
   "execution_count": 13,
   "outputs": [
    {
     "name": "stdout",
     "output_type": "stream",
     "text": [
      "===== running experiments 2/5 =====\n",
      "===== running non-robust baselines 1-4/17 =====\n"
     ]
    },
    {
     "name": "stderr",
     "output_type": "stream",
     "text": [
      "20it [10:08, 30.43s/it]\n"
     ]
    },
    {
     "name": "stdout",
     "output_type": "stream",
     "text": [
      "===== running robust baselines 5-7/17 =====\n"
     ]
    },
    {
     "name": "stderr",
     "output_type": "stream",
     "text": [
      "20it [02:59,  9.00s/it]\n",
      "20it [00:00, 211.24it/s]\n",
      "20it [00:00, 74.39it/s]\n",
      "20it [00:00, 33.67it/s]\n",
      "20it [00:02,  9.21it/s]\n",
      "20it [00:03,  5.08it/s]\n"
     ]
    },
    {
     "name": "stdout",
     "output_type": "stream",
     "text": [
      "===== running our methods 8-12/17, incremental delta =====\n"
     ]
    },
    {
     "name": "stderr",
     "output_type": "stream",
     "text": [
      "20it [02:14,  6.74s/it]\n",
      "20it [00:18,  1.10it/s]\n",
      "20it [22:33, 67.69s/it]\n",
      "5167it [02:29, 34.53it/s]\n",
      "20it [00:00, 28.52it/s]\n"
     ]
    },
    {
     "name": "stdout",
     "output_type": "stream",
     "text": [
      "===== running our methods 13-17/17, validation delta =====\n"
     ]
    },
    {
     "name": "stderr",
     "output_type": "stream",
     "text": [
      "20it [01:16,  3.83s/it]\n",
      "20it [00:13,  1.53it/s]\n",
      "20it [12:58, 38.93s/it]\n",
      "5167it [02:27, 35.15it/s]\n",
      "20it [00:00, 27.59it/s]\n"
     ]
    }
   ],
   "source": [
    "res_2 = run_exps_all_once(d, model, rt_models_eval, rt_models, inc_delta, val_delta, random_seed=7050,\n",
    "                               run_id=2)"
   ],
   "metadata": {
    "collapsed": false
   }
  },
  {
   "cell_type": "code",
   "execution_count": 14,
   "outputs": [
    {
     "name": "stdout",
     "output_type": "stream",
     "text": [
      "===== running experiments 3/5 =====\n",
      "===== running non-robust baselines 1-4/17 =====\n"
     ]
    },
    {
     "name": "stderr",
     "output_type": "stream",
     "text": [
      "20it [12:12, 36.65s/it]\n"
     ]
    },
    {
     "name": "stdout",
     "output_type": "stream",
     "text": [
      "===== running robust baselines 5-7/17 =====\n"
     ]
    },
    {
     "name": "stderr",
     "output_type": "stream",
     "text": [
      "20it [02:40,  8.04s/it]\n",
      "20it [00:00, 202.85it/s]\n",
      "20it [00:00, 74.31it/s]\n",
      "20it [00:00, 26.05it/s]\n",
      "20it [00:01, 10.37it/s]\n"
     ]
    },
    {
     "name": "stdout",
     "output_type": "stream",
     "text": [
      "===== running our methods 8-12/17, incremental delta =====\n"
     ]
    },
    {
     "name": "stderr",
     "output_type": "stream",
     "text": [
      "20it [01:44,  5.20s/it]\n",
      "20it [00:17,  1.14it/s]\n",
      "20it [20:28, 61.40s/it]\n",
      "5167it [02:40, 32.19it/s]\n",
      "20it [00:00, 22.89it/s]\n"
     ]
    },
    {
     "name": "stdout",
     "output_type": "stream",
     "text": [
      "===== running our methods 13-17/17, validation delta =====\n"
     ]
    },
    {
     "name": "stderr",
     "output_type": "stream",
     "text": [
      "20it [01:58,  5.94s/it]\n",
      "20it [00:13,  1.49it/s]\n",
      "20it [17:46, 53.33s/it]\n",
      "5167it [04:11, 20.58it/s]\n",
      "20it [00:00, 24.13it/s]\n"
     ]
    }
   ],
   "source": [
    "res_3 = run_exps_all_once(d, model, rt_models_eval, rt_models, inc_delta, val_delta, random_seed=3050,\n",
    "                               run_id=3)"
   ],
   "metadata": {
    "collapsed": false
   }
  },
  {
   "cell_type": "code",
   "execution_count": 15,
   "outputs": [
    {
     "name": "stdout",
     "output_type": "stream",
     "text": [
      "===== running experiments 4/5 =====\n",
      "===== running non-robust baselines 1-4/17 =====\n"
     ]
    },
    {
     "name": "stderr",
     "output_type": "stream",
     "text": [
      "20it [14:43, 44.20s/it]\n"
     ]
    },
    {
     "name": "stdout",
     "output_type": "stream",
     "text": [
      "===== running robust baselines 5-7/17 =====\n"
     ]
    },
    {
     "name": "stderr",
     "output_type": "stream",
     "text": [
      "20it [03:00,  9.05s/it]\n",
      "20it [00:00, 126.17it/s]\n",
      "20it [00:00, 53.83it/s]\n",
      "20it [00:01, 19.31it/s]\n",
      "20it [00:02,  8.06it/s]\n",
      "20it [00:03,  5.64it/s]\n"
     ]
    },
    {
     "name": "stdout",
     "output_type": "stream",
     "text": [
      "===== running our methods 8-12/17, incremental delta =====\n"
     ]
    },
    {
     "name": "stderr",
     "output_type": "stream",
     "text": [
      "20it [02:19,  6.95s/it]\n",
      "20it [00:21,  1.07s/it]\n",
      "20it [23:18, 69.92s/it]\n",
      "5167it [02:46, 31.01it/s]\n",
      "20it [00:00, 25.79it/s]\n"
     ]
    },
    {
     "name": "stdout",
     "output_type": "stream",
     "text": [
      "===== running our methods 13-17/17, validation delta =====\n"
     ]
    },
    {
     "name": "stderr",
     "output_type": "stream",
     "text": [
      "20it [01:16,  3.81s/it]\n",
      "20it [00:16,  1.22it/s]\n",
      "20it [11:41, 35.07s/it]\n",
      "5167it [02:47, 30.76it/s]\n",
      "20it [00:00, 24.67it/s]\n"
     ]
    }
   ],
   "source": [
    "res_4 = run_exps_all_once(d, model, rt_models_eval, rt_models, inc_delta, val_delta, random_seed=3990,\n",
    "                               run_id=4)"
   ],
   "metadata": {
    "collapsed": false
   }
  },
  {
   "cell_type": "code",
   "execution_count": 16,
   "outputs": [
    {
     "name": "stdout",
     "output_type": "stream",
     "text": [
      "===== running experiments 5/5 =====\n",
      "===== running non-robust baselines 1-4/17 =====\n"
     ]
    },
    {
     "name": "stderr",
     "output_type": "stream",
     "text": [
      "20it [11:25, 34.25s/it]\n"
     ]
    },
    {
     "name": "stdout",
     "output_type": "stream",
     "text": [
      "===== running robust baselines 5-7/17 =====\n"
     ]
    },
    {
     "name": "stderr",
     "output_type": "stream",
     "text": [
      "20it [02:36,  7.83s/it]\n",
      "20it [00:00, 134.08it/s]\n",
      "20it [00:00, 52.48it/s]\n",
      "20it [00:00, 24.87it/s]\n",
      "20it [00:02,  7.37it/s]\n",
      "20it [00:05,  3.68it/s]\n"
     ]
    },
    {
     "name": "stdout",
     "output_type": "stream",
     "text": [
      "===== running our methods 8-12/17, incremental delta =====\n"
     ]
    },
    {
     "name": "stderr",
     "output_type": "stream",
     "text": [
      "20it [01:58,  5.92s/it]\n",
      "20it [00:24,  1.23s/it]\n",
      "20it [24:29, 73.49s/it]\n",
      "5167it [03:05, 27.91it/s]\n",
      "20it [00:00, 23.57it/s]\n"
     ]
    },
    {
     "name": "stdout",
     "output_type": "stream",
     "text": [
      "===== running our methods 13-17/17, validation delta =====\n"
     ]
    },
    {
     "name": "stderr",
     "output_type": "stream",
     "text": [
      "20it [01:21,  4.10s/it]\n",
      "20it [00:19,  1.03it/s]\n",
      "20it [16:05, 48.26s/it]\n",
      "5167it [03:48, 22.60it/s]\n",
      "20it [00:01, 19.84it/s]\n"
     ]
    }
   ],
   "source": [
    "res_5 = run_exps_all_once(d, model, rt_models_eval, rt_models, inc_delta, val_delta, random_seed=6666,\n",
    "                               run_id=5)"
   ],
   "metadata": {
    "collapsed": false
   }
  },
  {
   "cell_type": "code",
   "execution_count": 28,
   "outputs": [
    {
     "name": "stdout",
     "output_type": "stream",
     "text": [
      "average results\n",
      "+--------------+------------+--------+-------+-------+--------------+--------------+\n",
      "| name         |   coverage |   cost |   lof |   vm2 |   vdelta-val |   vdelta-inc |\n",
      "+==============+============+========+=======+=======+==============+==============+\n",
      "| gce          |          1 |  0.019 | 1.179 | 0.205 |          0   |         0    |\n",
      "| mce          |          1 |  0.014 | 1.398 | 0.22  |          0   |         0    |\n",
      "| proto        |          1 |  0.024 | 1.161 | 0.395 |          0   |         0    |\n",
      "| nnce         |          1 |  0.053 | 1.053 | 0.359 |          0   |         0    |\n",
      "| roar         |          1 |  0.454 | 6.941 | 1     |          1   |         1    |\n",
      "| rbr          |          1 |  0.038 | 1.077 | 0.587 |          0   |         0    |\n",
      "| stable-ce    |          1 |  0.078 | 1.037 | 1     |          0.4 |         0    |\n",
      "| gce-r        |          1 |  0.109 | 2.069 | 1     |          1   |         1    |\n",
      "| mce-r        |          1 |  0.049 | 3.044 | 1     |          1   |         1    |\n",
      "| proto-r      |          1 |  0.163 | 2.408 | 1     |          1   |         1    |\n",
      "| rnce         |          1 |  0.15  | 1.134 | 1     |          1   |         1    |\n",
      "| rnce-opt     |          1 |  0.15  | 1.132 | 1     |          1   |         1    |\n",
      "| gce-r-val    |          1 |  0.049 | 1.323 | 1     |          1   |         0    |\n",
      "| mce-r-val    |          1 |  0.031 | 1.939 | 0.999 |          1   |         0    |\n",
      "| proto-r-val  |          1 |  0.079 | 1.623 | 1     |          1   |         0.11 |\n",
      "| rnce-val     |          1 |  0.083 | 1.043 | 1     |          1   |         0    |\n",
      "| rnce-opt-val |          1 |  0.08  | 1.039 | 1     |          1   |         0    |\n",
      "+--------------+------------+--------+-------+-------+--------------+--------------+\n",
      "std results\n",
      "+--------------+------------+---------+---------+---------+--------------+--------------+\n",
      "| name         |   coverage |    cost |     lof |     vm2 |   vdelta-val |   vdelta-inc |\n",
      "+==============+============+=========+=========+=========+==============+==============+\n",
      "| gce          |          0 | 0.00187 | 0.04531 | 0.04241 |      0       |      0       |\n",
      "| mce          |          0 | 0.00123 | 0.03369 | 0.05275 |      0       |      0       |\n",
      "| proto        |          0 | 0.00241 | 0.03595 | 0.05184 |      0       |      0       |\n",
      "| nnce         |          0 | 0.00257 | 0.01061 | 0.05251 |      0       |      0       |\n",
      "| roar         |          0 | 0.00999 | 0.16428 | 0       |      0       |      0       |\n",
      "| rbr          |          0 | 0.0029  | 0.0221  | 0.06957 |      0       |      0       |\n",
      "| stable-ce    |          0 | 0.00351 | 0.01597 | 0       |      0.15166 |      0       |\n",
      "| gce-r        |          0 | 0.00991 | 0.11372 | 0       |      0       |      0       |\n",
      "| mce-r        |          0 | 0.00176 | 0.05479 | 0       |      0       |      0       |\n",
      "| proto-r      |          0 | 0.00335 | 0.02539 | 0       |      0       |      0       |\n",
      "| rnce         |          0 | 0.00262 | 0.0223  | 0       |      0       |      0       |\n",
      "| rnce-opt     |          0 | 0.00258 | 0.02179 | 0       |      0       |      0       |\n",
      "| gce-r-val    |          0 | 0.00281 | 0.04298 | 0       |      0       |      0       |\n",
      "| mce-r-val    |          0 | 0.00139 | 0.08408 | 0.00163 |      0       |      0       |\n",
      "| proto-r-val  |          0 | 0.00246 | 0.06144 | 0       |      0       |      0.07348 |\n",
      "| rnce-val     |          0 | 0.00234 | 0.01872 | 0       |      0       |      0       |\n",
      "| rnce-opt-val |          0 | 0.00274 | 0.01879 | 0       |      0       |      0       |\n",
      "+--------------+------------+---------+---------+---------+--------------+--------------+\n"
     ]
    }
   ],
   "source": [
    "mean_res, std_res = run_exps(res_1, res_2, res_3, res_4, res_5)"
   ],
   "metadata": {
    "collapsed": false
   }
  }
 ],
 "metadata": {
  "kernelspec": {
   "display_name": "Python 3",
   "language": "python",
   "name": "python3"
  },
  "language_info": {
   "codemirror_mode": {
    "name": "ipython",
    "version": 2
   },
   "file_extension": ".py",
   "mimetype": "text/x-python",
   "name": "python",
   "nbconvert_exporter": "python",
   "pygments_lexer": "ipython2",
   "version": "2.7.6"
  }
 },
 "nbformat": 4,
 "nbformat_minor": 0
}
